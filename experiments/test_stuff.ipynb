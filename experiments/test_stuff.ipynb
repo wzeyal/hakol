{
 "cells": [
  {
   "cell_type": "code",
   "execution_count": 1,
   "metadata": {},
   "outputs": [],
   "source": [
    "import csv\n",
    "\n",
    "SCORES = 'temp.csv'\n",
    "\n"
   ]
  },
  {
   "cell_type": "code",
   "execution_count": 3,
   "metadata": {},
   "outputs": [],
   "source": [
    "labels = []\n",
    "scores = []\n",
    "with open(SCORES) as csvfile:\n",
    "    spamreader = csv.reader(csvfile, delimiter=',')\n",
    "    for row in spamreader:\n",
    "        labels.append(int(row[0]))\n",
    "        scores.append(float(row[1]))"
   ]
  },
  {
   "cell_type": "code",
   "execution_count": 34,
   "metadata": {},
   "outputs": [],
   "source": [
    "thresh = 0.9\n",
    "FAR = sum([int((s > thresh) and (1 - l)) for s, l in zip(scores, labels)])\n",
    "FRR = sum([int((s <= thresh) and (l)) for s, l in zip(scores, labels)])\n"
   ]
  },
  {
   "cell_type": "code",
   "execution_count": 35,
   "metadata": {},
   "outputs": [
    {
     "data": {
      "text/plain": [
       "(0, 20)"
      ]
     },
     "execution_count": 35,
     "metadata": {},
     "output_type": "execute_result"
    }
   ],
   "source": [
    "FAR, FRR"
   ]
  },
  {
   "cell_type": "code",
   "execution_count": null,
   "metadata": {},
   "outputs": [],
   "source": [
    "def ComputeEER():\n",
    "    \"\"\"Compute the Equal Error Rate from the data in scores.csv\n",
    "    \n",
    "    Returns:\n",
    "        a floating point number for the equal error rate (between 0 and 1)\n",
    "    \"\"\"\n",
    "    labels = []\n",
    "    scores = []\n",
    "    with open(SCORES) as csvfile:\n",
    "        spamreader = csv.reader(csvfile, delimiter=',')\n",
    "        for row in spamreader:\n",
    "            labels.append(int(row[0]))\n",
    "            scores.append(float(row[1]))\n",
    "\n",
    "    # Add your code here\n",
    "    treshes = range(0.05, 1.0, 0.05)\n",
    "    resolts = []\n",
    "    for thresh in treshes:\n",
    "        FAR = sum([int((s > thresh) and (1 - l)) for s, l in zip(scores, labels)])\n",
    "        FRR = sum([int((s <= thresh) and (l)) for s, l in zip(scores, labels)])\n",
    "        res = dict(thresh=thresh, far=FAR, frr=FRR)\n",
    "    "
   ]
  }
 ],
 "metadata": {
  "kernelspec": {
   "display_name": ".venv",
   "language": "python",
   "name": "python3"
  },
  "language_info": {
   "codemirror_mode": {
    "name": "ipython",
    "version": 3
   },
   "file_extension": ".py",
   "mimetype": "text/x-python",
   "name": "python",
   "nbconvert_exporter": "python",
   "pygments_lexer": "ipython3",
   "version": "3.10.13"
  }
 },
 "nbformat": 4,
 "nbformat_minor": 2
}
