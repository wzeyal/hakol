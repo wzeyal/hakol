{
 "cells": [
  {
   "cell_type": "markdown",
   "source": [
    "Old cell\n",
    "```\n",
    "\"\"\"\n",
    "You can run either this notebook locally (if you have all the dependencies and a GPU) or on Google Colab.\n",
    "\n",
    "Instructions for setting up Colab are as follows:\n",
    "1. Open a new Python 3 notebook.\n",
    "2. Import this notebook from GitHub (File -> Upload Notebook -> \"GITHUB\" tab -> copy/paste GitHub URL)\n",
    "3. Connect to an instance with a GPU (Runtime -> Change runtime type -> select \"GPU\" for hardware accelerator)\n",
    "4. Run this cell to set up dependencies.\n",
    "\"\"\"\n",
    "# If you're using Google Colab and not running locally, run this cell.\n",
    "\n",
    "# Install dependencies\n",
    "!pip install wget\n",
    "!apt-get install sox libsndfile1 ffmpeg\n",
    "!pip install text-unidecode\n",
    "\n",
    "## Install NeMo\n",
    "BRANCH = 'main'\n",
    "!python -m pip install git+https://github.com/NVIDIA/NeMo.git@$BRANCH#egg=nemo_toolkit[asr]\n",
    "\n",
    "# Install TorchAudio\n",
    "!pip install torchaudio>=0.10.0 -f https://download.pytorch.org/whl/torch_stable.html\n",
    "```\n"
   ],
   "metadata": {
    "collapsed": false
   }
  },
  {
   "cell_type": "code",
   "outputs": [],
   "source": [
    "# new cell\n",
    "BRANCH = 'main'\n",
    "model_name = 'titanet-small'"
   ],
   "metadata": {
    "collapsed": false,
    "ExecuteTime": {
     "end_time": "2024-03-09T09:44:11.622187Z",
     "start_time": "2024-03-09T09:44:11.617810Z"
    }
   },
   "execution_count": 1
  },
  {
   "cell_type": "markdown",
   "metadata": {
    "colab_type": "text",
    "id": "oDzak_FIB9LS"
   },
   "source": [
    "# **SPEAKER RECOGNITION** \n",
    "Speaker Recognition (SR) is a broad research area that solves two major tasks: speaker identification (who is speaking?) and\n",
    "speaker verification (is the speaker who they claim to be?). In this work, we focus on text-independent speaker recognition when the identity of the speaker is based on how the speech is spoken,\n",
    "not necessarily in what is being said. Typically such SR systems operate on unconstrained speech utterances,\n",
    "which are converted into fixed-length vectors, called speaker embeddings. Speaker embeddings are also used in\n",
    "automatic speech recognition (ASR) and speech synthesis."
   ]
  },
  {
   "cell_type": "markdown",
   "metadata": {
    "colab_type": "text",
    "id": "ydqmdcDxCeXb"
   },
   "source": [
    "In this tutorial, we shall first train these embeddings on speaker-related datasets, and then get speaker embeddings from a pretrained network for a new dataset. Since Google Colab has very slow read-write speeds, I'll be demonstrating this tutorial using [an4](http://www.speech.cs.cmu.edu/databases/an4/). \n",
    "\n",
    "Instead, if you'd like to try on a bigger dataset like [hi-mia](https://arxiv.org/abs/1912.01231) use the [get_hi-mia-data.py](https://github.com/NVIDIA/NeMo/tree/main/scripts/dataset_processing/speaker_tasks/get_hi-mia_data.py) script to download the necessary files, extract them, and resample to 16Khz if any of these samples are not at 16Khz. "
   ]
  },
  {
   "cell_type": "code",
   "execution_count": 2,
   "metadata": {
    "colab": {},
    "colab_type": "code",
    "id": "vqUBayc_Ctcr",
    "ExecuteTime": {
     "end_time": "2024-03-09T09:44:14.141114Z",
     "start_time": "2024-03-09T09:44:11.819628Z"
    }
   },
   "outputs": [
    {
     "name": "stdout",
     "output_type": "stream",
     "text": [
      "/home/eyalshw/git/hakol/notebooks\n",
      "******\n",
      "Tarfile already exists.\n",
      "Converting .sph to .wav...\n",
      "Finished conversion.\n",
      "******\n"
     ]
    }
   ],
   "source": [
    "import os\n",
    "NEMO_ROOT = os.getcwd()\n",
    "print(NEMO_ROOT)\n",
    "import glob\n",
    "import subprocess\n",
    "import tarfile\n",
    "import wget\n",
    "\n",
    "data_dir = os.path.join(NEMO_ROOT,'data')\n",
    "os.makedirs(data_dir, exist_ok=True)\n",
    "\n",
    "# Download the dataset. This will take a few moments...\n",
    "print(\"******\")\n",
    "if not os.path.exists(data_dir + '/an4_sphere.tar.gz'):\n",
    "    an4_url = 'https://dldata-public.s3.us-east-2.amazonaws.com/an4_sphere.tar.gz'\n",
    "    an4_path = wget.download(an4_url, data_dir)\n",
    "    print(f\"Dataset downloaded at: {an4_path}\")\n",
    "else:\n",
    "    print(\"Tarfile already exists.\")\n",
    "    an4_path = data_dir + '/an4_sphere.tar.gz'\n",
    "\n",
    "# Untar and convert .sph to .wav (using sox)\n",
    "tar = tarfile.open(an4_path)\n",
    "tar.extractall(path=data_dir)\n",
    "\n",
    "print(\"Converting .sph to .wav...\")\n",
    "sph_list = glob.glob(data_dir + '/an4/**/*.sph', recursive=True)\n",
    "for sph_path in sph_list:\n",
    "    wav_path = sph_path[:-4] + '.wav'\n",
    "    cmd = [\"sox\", sph_path, wav_path]\n",
    "    subprocess.run(cmd)\n",
    "print(\"Finished conversion.\\n******\")"
   ]
  },
  {
   "cell_type": "markdown",
   "metadata": {
    "colab_type": "text",
    "id": "t5PrWzkiDbHy"
   },
   "source": [
    "Since an4 is not designed for speaker recognition, this facilitates the opportunity to demonstrate how you can generate manifest files that are necessary for training. These methods can be applied to any dataset to get similar training manifest files. \n",
    "\n",
    "First, create a list file which has all the wav files with absolute paths for each of the train, dev, and test set. This can be easily done by the `find` bash command"
   ]
  },
  {
   "cell_type": "code",
   "execution_count": 3,
   "metadata": {
    "colab": {},
    "colab_type": "code",
    "id": "vnrUh3vuDSRN",
    "ExecuteTime": {
     "end_time": "2024-03-09T09:44:14.333675Z",
     "start_time": "2024-03-09T09:44:14.142443Z"
    }
   },
   "outputs": [],
   "source": [
    "!find {data_dir}/an4/wav/an4_clstk  -iname \"*.wav\" > data/an4/wav/an4_clstk/train_all.txt"
   ]
  },
  {
   "cell_type": "markdown",
   "metadata": {
    "colab_type": "text",
    "id": "BhWVg2QoDhL3"
   },
   "source": [
    "Let's look at the first 3 lines of filelist text file for train."
   ]
  },
  {
   "cell_type": "code",
   "execution_count": 4,
   "metadata": {
    "colab": {},
    "colab_type": "code",
    "id": "BfnMK302Du20",
    "ExecuteTime": {
     "end_time": "2024-03-09T09:44:14.522065Z",
     "start_time": "2024-03-09T09:44:14.334802Z"
    }
   },
   "outputs": [
    {
     "name": "stdout",
     "output_type": "stream",
     "text": [
      "/home/eyalshw/git/hakol/notebooks/data/an4/wav/an4_clstk/mjda/an174-mjda-b.wav\r\n",
      "/home/eyalshw/git/hakol/notebooks/data/an4/wav/an4_clstk/mjda/cen4-mjda-b.wav\r\n",
      "/home/eyalshw/git/hakol/notebooks/data/an4/wav/an4_clstk/mjda/cen6-mjda-b.wav\r\n"
     ]
    }
   ],
   "source": [
    "!head -n 3 {data_dir}/an4/wav/an4_clstk/train_all.txt"
   ]
  },
  {
   "cell_type": "markdown",
   "metadata": {
    "colab_type": "text",
    "id": "Y9L9Tl0XDw5Z"
   },
   "source": [
    "Since we created the list text file for the train, we use `filelist_to_manifest.py` to convert this text file to a manifest file and then optionally split the files to train \\& dev for evaluating the models during training by using the `--split` flag. We wouldn't be needing the `--split` option for the test folder. \n",
    "Accordingly please mention the `id` number, which is the field num separated by `/` to be considered as the speaker label "
   ]
  },
  {
   "cell_type": "markdown",
   "metadata": {
    "colab_type": "text",
    "id": "_LYwHAr1G8hp"
   },
   "source": [
    "After the download and conversion, your `data` folder should contain directories with manifest files as:\n",
    "\n",
    "* `data/<path>/train.json`\n",
    "* `data/<path>/dev.json` \n",
    "* `data/<path>/train_all.json` \n",
    "\n",
    "Each line in the manifest file describes a training sample - `audio_filepath` contains the path to the wav file, `duration` it's duration in seconds, and `label` is the speaker class label:\n",
    "\n",
    "`{\"audio_filepath\": \"<absolute path to dataset>data/an4/wav/an4test_clstk/menk/cen4-menk-b.wav\", \"duration\": 3.9, \"label\": \"menk\"}` "
   ]
  },
  {
   "cell_type": "code",
   "execution_count": 5,
   "metadata": {
    "colab": {},
    "colab_type": "code",
    "id": "mpAv77JoD98c",
    "ExecuteTime": {
     "end_time": "2024-03-09T09:44:19.632181Z",
     "start_time": "2024-03-09T09:44:14.523846Z"
    }
   },
   "outputs": [
    {
     "name": "stdout",
     "output_type": "stream",
     "text": [
      "100%|███████████████████████████████████████| 948/948 [00:00<00:00, 6867.71it/s]\r\n",
      "wrote /home/eyalshw/git/hakol/notebooks/data/an4/wav/an4_clstk/train_all_manifest.json\r\n",
      "100%|█████████████████████████████████████| 948/948 [00:00<00:00, 323163.21it/s]\r\n",
      "wrote /home/eyalshw/git/hakol/notebooks/data/an4/wav/an4_clstk/all_manifest.json\r\n",
      "number of train samples after split:  853\r\n",
      "wrote /home/eyalshw/git/hakol/notebooks/data/an4/wav/an4_clstk/train.json\r\n",
      "wrote /home/eyalshw/git/hakol/notebooks/data/an4/wav/an4_clstk/dev.json\r\n"
     ]
    }
   ],
   "source": [
    "if not os.path.exists('scripts'):\n",
    "  print(\"Downloading necessary scripts\")\n",
    "  !mkdir -p scripts/speaker_tasks\n",
    "  !wget -P scripts/speaker_tasks/ https://raw.githubusercontent.com/NVIDIA/NeMo/$BRANCH/scripts/speaker_tasks/filelist_to_manifest.py\n",
    "!python {NEMO_ROOT}/scripts/speaker_tasks/filelist_to_manifest.py --filelist {data_dir}/an4/wav/an4_clstk/train_all.txt --id -2 --out {data_dir}/an4/wav/an4_clstk/all_manifest.json --split"
   ]
  },
  {
   "cell_type": "markdown",
   "metadata": {
    "colab_type": "text",
    "id": "5kPCmx5DHvY5"
   },
   "source": [
    "Generate the list text file for the test folder and then convert it to a manifest."
   ]
  },
  {
   "cell_type": "code",
   "execution_count": 6,
   "metadata": {
    "colab": {},
    "colab_type": "code",
    "id": "nMd24GVaFBwr",
    "ExecuteTime": {
     "end_time": "2024-03-09T09:44:24.906071Z",
     "start_time": "2024-03-09T09:44:19.633438Z"
    }
   },
   "outputs": [
    {
     "name": "stdout",
     "output_type": "stream",
     "text": [
      "100%|███████████████████████████████████████| 130/130 [00:00<00:00, 1389.83it/s]\r\n",
      "wrote /home/eyalshw/git/hakol/notebooks/data/an4/wav/an4test_clstk/test_all_manifest.json\r\n",
      "100%|█████████████████████████████████████| 130/130 [00:00<00:00, 162327.93it/s]\r\n",
      "wrote /home/eyalshw/git/hakol/notebooks/data/an4/wav/an4test_clstk/test.json\r\n"
     ]
    }
   ],
   "source": [
    "!find {data_dir}/an4/wav/an4test_clstk  -iname \"*.wav\" > {data_dir}/an4/wav/an4test_clstk/test_all.txt\n",
    "!python {NEMO_ROOT}/scripts/speaker_tasks/filelist_to_manifest.py --filelist {data_dir}/an4/wav/an4test_clstk/test_all.txt --id -2 --out {data_dir}/an4/wav/an4test_clstk/test.json"
   ]
  },
  {
   "cell_type": "markdown",
   "metadata": {
    "colab_type": "text",
    "id": "H5FPmxUkGakD"
   },
   "source": [
    "## Path to manifest files\n"
   ]
  },
  {
   "cell_type": "code",
   "execution_count": 7,
   "metadata": {
    "colab": {},
    "colab_type": "code",
    "id": "vo-VnYPtJO_v",
    "ExecuteTime": {
     "end_time": "2024-03-09T09:44:24.910209Z",
     "start_time": "2024-03-09T09:44:24.907054Z"
    }
   },
   "outputs": [],
   "source": [
    "train_manifest = os.path.join(data_dir,'an4/wav/an4_clstk/train.json')\n",
    "validation_manifest = os.path.join(data_dir,'an4/wav/an4_clstk/dev.json')\n",
    "test_manifest = os.path.join(data_dir,'an4/wav/an4_clstk/dev.json')"
   ]
  },
  {
   "cell_type": "markdown",
   "metadata": {
    "colab_type": "text",
    "id": "KyDVdtjAL2__"
   },
   "source": [
    "As the goal of most speaker-related systems is to get good speaker level embeddings that could help distinguish from\n",
    "other speakers, we shall first train these embeddings in an end-to-end\n",
    "manner optimizing the [TitaNet](https://arxiv.org/pdf/2110.04410.pdf) model.\n",
    "We modify the decoder to get these fixed-size embeddings irrespective of the length of the input audio."
   ]
  },
  {
   "cell_type": "markdown",
   "metadata": {
    "colab_type": "text",
    "id": "OJtU_GEdMUUo"
   },
   "source": [
    "# Training\n",
    "Import necessary packages"
   ]
  },
  {
   "cell_type": "markdown",
   "metadata": {},
   "source": [
    "Note: All the following steps are just for explanation of each section, but one can use the provided [training script](https://github.com/NVIDIA/NeMo/blob/main/examples/speaker_tasks/recognition/speaker_reco.py) to launch training in the command line."
   ]
  },
  {
   "cell_type": "code",
   "execution_count": 8,
   "metadata": {
    "colab": {},
    "colab_type": "code",
    "id": "o1ojB0cZMSmv",
    "ExecuteTime": {
     "end_time": "2024-03-09T09:44:28.315038Z",
     "start_time": "2024-03-09T09:44:24.911218Z"
    }
   },
   "outputs": [],
   "source": [
    "import nemo\n",
    "# NeMo's ASR collection - This collection contains complete ASR models and\n",
    "# building blocks (modules) for ASR\n",
    "import nemo.collections.asr as nemo_asr\n",
    "from omegaconf import OmegaConf"
   ]
  },
  {
   "cell_type": "markdown",
   "metadata": {
    "colab_type": "text",
    "id": "m5Zho11LNAFJ"
   },
   "source": [
    "## Model Configuration \n",
    "The TitaNet model is defined in a config file which declares multiple important sections.\n",
    "\n",
    "They are:\n",
    "\n",
    "1) model: All arguments that will relate to the Model - preprocessors, encoder, decoder, optimizer and schedulers, datasets, and any other related information\n",
    "\n",
    "2) trainer: Any argument to be passed to PyTorch Lightning"
   ]
  },
  {
   "cell_type": "code",
   "execution_count": 9,
   "metadata": {
    "colab": {},
    "colab_type": "code",
    "id": "6HQtZfKnMhpI",
    "ExecuteTime": {
     "end_time": "2024-03-09T09:44:29.035669Z",
     "start_time": "2024-03-09T09:44:28.315962Z"
    }
   },
   "outputs": [
    {
     "name": "stdout",
     "output_type": "stream",
     "text": [
      "mkdir: cannot create directory ‘conf’: File exists\r\n",
      "--2024-03-09 11:44:28--  https://raw.githubusercontent.com/NVIDIA/NeMo/main/examples/speaker_tasks/recognition/conf/titanet-small.yaml\r\n",
      "Resolving raw.githubusercontent.com (raw.githubusercontent.com)... 185.199.111.133, 185.199.110.133, 185.199.109.133, ...\r\n",
      "Connecting to raw.githubusercontent.com (raw.githubusercontent.com)|185.199.111.133|:443... connected.\r\n",
      "HTTP request sent, awaiting response... 200 OK\r\n",
      "Length: 4526 (4.4K) [text/plain]\r\n",
      "Saving to: ‘conf/titanet-small.yaml.3’\r\n",
      "\r\n",
      "titanet-small.yaml. 100%[===================>]   4.42K  --.-KB/s    in 0s      \r\n",
      "\r\n",
      "2024-03-09 11:44:28 (79.4 MB/s) - ‘conf/titanet-small.yaml.3’ saved [4526/4526]\r\n",
      "\r\n",
      "name: TitaNet-S\n",
      "sample_rate: 16000\n",
      "model:\n",
      "  train_ds:\n",
      "    manifest_filepath: ???\n",
      "    sample_rate: 16000\n",
      "    labels: null\n",
      "    batch_size: 8\n",
      "    shuffle: true\n",
      "    is_tarred: false\n",
      "    tarred_audio_filepaths: null\n",
      "    tarred_shard_strategy: scatter\n",
      "    augmentor:\n",
      "      noise:\n",
      "        manifest_path: null\n",
      "        prob: 0.5\n",
      "        min_snr_db: 5\n",
      "        max_snr_db: 15\n",
      "      impulse:\n",
      "        manifest_path: null\n",
      "        prob: 0.5\n",
      "      speed:\n",
      "        prob: 0.5\n",
      "        sr: 16000\n",
      "        resample_type: kaiser_fast\n",
      "        min_speed_rate: 0.95\n",
      "        max_speed_rate: 1.05\n",
      "  validation_ds:\n",
      "    manifest_filepath: ???\n",
      "    sample_rate: 16000\n",
      "    labels: null\n",
      "    batch_size: 16\n",
      "    shuffle: false\n",
      "  model_defaults:\n",
      "    filters: 256\n",
      "    repeat: 3\n",
      "    dropout: 0.1\n",
      "    separable: true\n",
      "    se: true\n",
      "    se_context_size: -1\n",
      "    kernel_size_factor: 1.0\n",
      "  preprocessor:\n",
      "    _target_: nemo.collections.asr.modules.AudioToMelSpectrogramPreprocessor\n",
      "    normalize: per_feature\n",
      "    window_size: 0.025\n",
      "    sample_rate: 16000\n",
      "    window_stride: 0.01\n",
      "    window: hann\n",
      "    features: 80\n",
      "    n_fft: 512\n",
      "    frame_splicing: 1\n",
      "    dither: 1.0e-05\n",
      "  spec_augment:\n",
      "    _target_: nemo.collections.asr.modules.SpectrogramAugmentation\n",
      "    freq_masks: 3\n",
      "    freq_width: 4\n",
      "    time_masks: 5\n",
      "    time_width: 0.03\n",
      "  encoder:\n",
      "    _target_: nemo.collections.asr.modules.ConvASREncoder\n",
      "    feat_in: 80\n",
      "    activation: relu\n",
      "    conv_mask: true\n",
      "    jasper:\n",
      "    - filters: ${model.model_defaults.filters}\n",
      "      repeat: 1\n",
      "      kernel:\n",
      "      - 3\n",
      "      stride:\n",
      "      - 1\n",
      "      dilation:\n",
      "      - 1\n",
      "      dropout: 0.0\n",
      "      residual: false\n",
      "      separable: ${model.model_defaults.separable}\n",
      "      se: ${model.model_defaults.se}\n",
      "      se_context_size: ${model.model_defaults.se_context_size}\n",
      "    - filters: ${model.model_defaults.filters}\n",
      "      repeat: ${model.model_defaults.repeat}\n",
      "      kernel:\n",
      "      - 7\n",
      "      stride:\n",
      "      - 1\n",
      "      dilation:\n",
      "      - 1\n",
      "      dropout: ${model.model_defaults.dropout}\n",
      "      residual: true\n",
      "      separable: ${model.model_defaults.separable}\n",
      "      se: ${model.model_defaults.se}\n",
      "      se_context_size: ${model.model_defaults.se_context_size}\n",
      "    - filters: ${model.model_defaults.filters}\n",
      "      repeat: ${model.model_defaults.repeat}\n",
      "      kernel:\n",
      "      - 11\n",
      "      stride:\n",
      "      - 1\n",
      "      dilation:\n",
      "      - 1\n",
      "      dropout: ${model.model_defaults.dropout}\n",
      "      residual: true\n",
      "      separable: ${model.model_defaults.separable}\n",
      "      se: ${model.model_defaults.se}\n",
      "      se_context_size: ${model.model_defaults.se_context_size}\n",
      "    - filters: ${model.model_defaults.filters}\n",
      "      repeat: ${model.model_defaults.repeat}\n",
      "      kernel:\n",
      "      - 15\n",
      "      stride:\n",
      "      - 1\n",
      "      dilation:\n",
      "      - 1\n",
      "      dropout: ${model.model_defaults.dropout}\n",
      "      residual: true\n",
      "      separable: ${model.model_defaults.separable}\n",
      "      se: ${model.model_defaults.se}\n",
      "      se_context_size: ${model.model_defaults.se_context_size}\n",
      "    - filters: 3072\n",
      "      repeat: 1\n",
      "      kernel:\n",
      "      - 1\n",
      "      stride:\n",
      "      - 1\n",
      "      dilation:\n",
      "      - 1\n",
      "      dropout: 0.0\n",
      "      residual: false\n",
      "      separable: ${model.model_defaults.separable}\n",
      "      se: ${model.model_defaults.se}\n",
      "      se_context_size: ${model.model_defaults.se_context_size}\n",
      "  decoder:\n",
      "    _target_: nemo.collections.asr.modules.SpeakerDecoder\n",
      "    feat_in: 3072\n",
      "    num_classes: 7205\n",
      "    pool_mode: attention\n",
      "    emb_sizes: 192\n",
      "  loss:\n",
      "    _target_: nemo.collections.asr.losses.angularloss.AngularSoftmaxLoss\n",
      "    scale: 30\n",
      "    margin: 0.2\n",
      "  optim:\n",
      "    name: sgd\n",
      "    lr: 0.006\n",
      "    weight_decay: 0.001\n",
      "    momentum: 0.9\n",
      "    sched:\n",
      "      name: CosineAnnealing\n",
      "      warmup_ratio: 0.1\n",
      "      min_lr: 0.0\n",
      "trainer:\n",
      "  devices: 1\n",
      "  max_epochs: 10\n",
      "  max_steps: 10\n",
      "  num_nodes: 1\n",
      "  accelerator: gpu\n",
      "  strategy: ddp\n",
      "  accumulate_grad_batches: 1\n",
      "  deterministic: true\n",
      "  enable_checkpointing: false\n",
      "  logger: false\n",
      "  log_every_n_steps: 1\n",
      "  val_check_interval: 2\n",
      "  gradient_clip_val: 1.0\n",
      "exp_manager:\n",
      "  exp_dir: null\n",
      "  name: TitaNet-S\n",
      "  create_tensorboard_logger: true\n",
      "  create_checkpoint_callback: true\n"
     ]
    }
   ],
   "source": [
    "# This line will print the entire config of sample TitaNet model\n",
    "!mkdir conf \n",
    "!wget -P conf https://raw.githubusercontent.com/NVIDIA/NeMo/$BRANCH/examples/speaker_tasks/recognition/conf/titanet-small.yaml\n",
    "MODEL_CONFIG = os.path.join(NEMO_ROOT,'conf/titanet-small.yaml')\n",
    "config = OmegaConf.load(MODEL_CONFIG)\n",
    "print(OmegaConf.to_yaml(config))"
   ]
  },
  {
   "cell_type": "markdown",
   "metadata": {
    "colab_type": "text",
    "id": "HtbXN-cFOwxi"
   },
   "source": [
    "## Setting up the datasets within the config\n",
    "If you'll notice, there are a few config dictionaries called train_ds, validation_ds and test_ds. These are configurations used to setup the Dataset and DataLoaders of the corresponding config."
   ]
  },
  {
   "cell_type": "code",
   "execution_count": 10,
   "metadata": {
    "colab": {},
    "colab_type": "code",
    "id": "NPBIf1jmNgjn",
    "ExecuteTime": {
     "end_time": "2024-03-09T09:44:29.041314Z",
     "start_time": "2024-03-09T09:44:29.037095Z"
    }
   },
   "outputs": [
    {
     "name": "stdout",
     "output_type": "stream",
     "text": [
      "manifest_filepath: ???\n",
      "sample_rate: 16000\n",
      "labels: null\n",
      "batch_size: 8\n",
      "shuffle: true\n",
      "is_tarred: false\n",
      "tarred_audio_filepaths: null\n",
      "tarred_shard_strategy: scatter\n",
      "augmentor:\n",
      "  noise:\n",
      "    manifest_path: null\n",
      "    prob: 0.5\n",
      "    min_snr_db: 5\n",
      "    max_snr_db: 15\n",
      "  impulse:\n",
      "    manifest_path: null\n",
      "    prob: 0.5\n",
      "  speed:\n",
      "    prob: 0.5\n",
      "    sr: 16000\n",
      "    resample_type: kaiser_fast\n",
      "    min_speed_rate: 0.95\n",
      "    max_speed_rate: 1.05\n",
      "\n",
      "manifest_filepath: ???\n",
      "sample_rate: 16000\n",
      "labels: null\n",
      "batch_size: 16\n",
      "shuffle: false\n"
     ]
    }
   ],
   "source": [
    "print(OmegaConf.to_yaml(config.model.train_ds))\n",
    "print(OmegaConf.to_yaml(config.model.validation_ds))"
   ]
  },
  {
   "cell_type": "markdown",
   "metadata": {
    "colab_type": "text",
    "id": "PLIjKOMUP0YE"
   },
   "source": [
    "You will often notice that some configs have ??? in place of paths. This is used as a placeholder so that the user can change the value at a later time.\n",
    "\n",
    "Let's add the paths to the manifests to the config above\n",
    "Also, since an4 dataset doesn't have a test set of the same speakers used in training, we will use validation manifest as test manifest for demonstration purposes"
   ]
  },
  {
   "cell_type": "code",
   "execution_count": 11,
   "metadata": {
    "colab": {},
    "colab_type": "code",
    "id": "TSotpjL_O2BN",
    "ExecuteTime": {
     "end_time": "2024-03-09T09:44:29.045500Z",
     "start_time": "2024-03-09T09:44:29.043510Z"
    }
   },
   "outputs": [],
   "source": [
    "config.model.train_ds.manifest_filepath = train_manifest\n",
    "config.model.validation_ds.manifest_filepath = validation_manifest"
   ]
  },
  {
   "cell_type": "markdown",
   "metadata": {},
   "source": [
    "Note: Since we are training speaker embedding extractor model for verification we do not add test_ds dataset. To include it add it to config and replace manifest file as \n",
    "`config.model.test_ds.manifest_filepath = test_manifest`"
   ]
  },
  {
   "cell_type": "markdown",
   "metadata": {
    "colab_type": "text",
    "id": "xy6_Lf6fW9aJ"
   },
   "source": [
    "Also as we are training on an4 dataset, there are 74 speaker labels in training, and we need to set this in the decoder config"
   ]
  },
  {
   "cell_type": "code",
   "execution_count": 12,
   "metadata": {
    "colab": {},
    "colab_type": "code",
    "id": "-B96tFTnW8Yh",
    "ExecuteTime": {
     "end_time": "2024-03-09T09:44:29.049202Z",
     "start_time": "2024-03-09T09:44:29.046090Z"
    }
   },
   "outputs": [],
   "source": [
    "config.model.decoder.num_classes = 74"
   ]
  },
  {
   "cell_type": "markdown",
   "metadata": {
    "colab_type": "text",
    "id": "83pHBRDpQTF0"
   },
   "source": [
    "## Building the PyTorch Lightning Trainer\n",
    "NeMo models are primarily PyTorch Lightning modules - and therefore are entirely compatible with the PyTorch Lightning ecosystem!\n",
    "\n",
    "Let us first instantiate a Trainer object!"
   ]
  },
  {
   "cell_type": "code",
   "execution_count": 13,
   "metadata": {
    "colab": {},
    "colab_type": "code",
    "id": "GWzGJoHMQQnG",
    "ExecuteTime": {
     "end_time": "2024-03-09T09:44:29.054462Z",
     "start_time": "2024-03-09T09:44:29.049819Z"
    }
   },
   "outputs": [],
   "source": [
    "import torch\n",
    "import pytorch_lightning as pl"
   ]
  },
  {
   "cell_type": "code",
   "execution_count": 14,
   "metadata": {
    "colab": {},
    "colab_type": "code",
    "id": "WIYf4-KFQYHl",
    "ExecuteTime": {
     "end_time": "2024-03-09T09:44:29.058750Z",
     "start_time": "2024-03-09T09:44:29.055383Z"
    }
   },
   "outputs": [
    {
     "name": "stdout",
     "output_type": "stream",
     "text": [
      "Trainer config - \n",
      "\n",
      "devices: 1\n",
      "max_epochs: 10\n",
      "max_steps: 10\n",
      "num_nodes: 1\n",
      "accelerator: gpu\n",
      "strategy: ddp\n",
      "accumulate_grad_batches: 1\n",
      "deterministic: true\n",
      "enable_checkpointing: false\n",
      "logger: false\n",
      "log_every_n_steps: 1\n",
      "val_check_interval: 2\n",
      "gradient_clip_val: 1.0\n"
     ]
    }
   ],
   "source": [
    "print(\"Trainer config - \\n\")\n",
    "print(OmegaConf.to_yaml(config.trainer))"
   ]
  },
  {
   "cell_type": "code",
   "execution_count": 15,
   "metadata": {
    "colab": {},
    "colab_type": "code",
    "id": "aXuSMYMNQeW7",
    "ExecuteTime": {
     "end_time": "2024-03-09T09:44:29.101192Z",
     "start_time": "2024-03-09T09:44:29.059460Z"
    }
   },
   "outputs": [],
   "source": [
    "# Let us modify some trainer configs for this demo\n",
    "# Checks if we have GPU available and uses it\n",
    "accelerator = 'gpu' if torch.cuda.is_available() else 'cpu'\n",
    "config.trainer.devices = 1\n",
    "config.trainer.accelerator = accelerator\n",
    "\n",
    "# Reduces maximum number of epochs to 5 for quick demonstration\n",
    "config.trainer.max_epochs = 10\n",
    "\n",
    "# Remove distributed training flags\n",
    "config.trainer.strategy = 'auto'\n",
    "\n",
    "# Remove augmentations\n",
    "config.model.train_ds.augmentor=None"
   ]
  },
  {
   "cell_type": "code",
   "execution_count": 16,
   "metadata": {
    "colab": {},
    "colab_type": "code",
    "id": "pBq3eCLwQhCy",
    "ExecuteTime": {
     "end_time": "2024-03-09T09:44:29.217426Z",
     "start_time": "2024-03-09T09:44:29.102628Z"
    }
   },
   "outputs": [
    {
     "name": "stderr",
     "output_type": "stream",
     "text": [
      "GPU available: True (cuda), used: True\n",
      "TPU available: False, using: 0 TPU cores\n",
      "IPU available: False, using: 0 IPUs\n",
      "HPU available: False, using: 0 HPUs\n"
     ]
    }
   ],
   "source": [
    "trainer = pl.Trainer(**config.trainer)"
   ]
  },
  {
   "cell_type": "markdown",
   "metadata": {
    "colab_type": "text",
    "id": "-xHq_rcmQiry"
   },
   "source": [
    "## Setting up a NeMo Experiment\n",
    "NeMo has an experiment manager that handles logging and checkpointing for us, so let's use it !"
   ]
  },
  {
   "cell_type": "code",
   "execution_count": 17,
   "metadata": {
    "colab": {},
    "colab_type": "code",
    "id": "DMm8MPYfQsCS",
    "ExecuteTime": {
     "end_time": "2024-03-09T09:44:29.268364Z",
     "start_time": "2024-03-09T09:44:29.218617Z"
    }
   },
   "outputs": [
    {
     "name": "stdout",
     "output_type": "stream",
     "text": [
      "[NeMo I 2024-03-09 11:44:29 exp_manager:396] Experiments will be logged at /home/eyalshw/git/hakol/notebooks/nemo_experiments/TitaNet-S/2024-03-09_11-44-29\n",
      "[NeMo I 2024-03-09 11:44:29 exp_manager:856] TensorboardLogger has been set up\n"
     ]
    },
    {
     "name": "stderr",
     "output_type": "stream",
     "text": [
      "[NeMo W 2024-03-09 11:44:29 exp_manager:966] The checkpoint callback was told to monitor a validation value and trainer's max_steps was set to 10. Please ensure that max_steps will run for at least 1 epochs to ensure that checkpointing will not error out.\n"
     ]
    },
    {
     "name": "stdout",
     "output_type": "stream",
     "text": [
      "/home/eyalshw/git/hakol/notebooks/nemo_experiments/TitaNet-S/2024-03-09_11-44-29\n"
     ]
    }
   ],
   "source": [
    "from nemo.utils.exp_manager import exp_manager\n",
    "log_dir = exp_manager(trainer, config.get(\"exp_manager\", None))\n",
    "# The log_dir provides a path to the current logging directory for easy access\n",
    "print(log_dir)"
   ]
  },
  {
   "cell_type": "markdown",
   "metadata": {
    "colab_type": "text",
    "id": "nQQMlXmLQ7h1"
   },
   "source": [
    "## Building the TitaNet Model\n",
    "TitaNet is a speaker embedding extractor model that can be used for speaker identification tasks - it generates one label for the entire provided audio stream. Therefore we encapsulate it inside the EncDecSpeakerLabelModel as follows."
   ]
  },
  {
   "cell_type": "code",
   "execution_count": 18,
   "metadata": {
    "colab": {},
    "colab_type": "code",
    "id": "E_KY_s5LROYf",
    "ExecuteTime": {
     "end_time": "2024-03-09T09:44:29.474846Z",
     "start_time": "2024-03-09T09:44:29.269448Z"
    }
   },
   "outputs": [
    {
     "name": "stdout",
     "output_type": "stream",
     "text": [
      "[NeMo I 2024-03-09 11:44:29 collections:445] Filtered duration for loading collection is  0.00 hours.\n",
      "[NeMo I 2024-03-09 11:44:29 collections:446] Dataset loaded with 853 items, total duration of  0.63 hours.\n",
      "[NeMo I 2024-03-09 11:44:29 collections:448] # 853 files loaded accounting to # 74 labels\n"
     ]
    },
    {
     "name": "stderr",
     "output_type": "stream",
     "text": [
      "[NeMo W 2024-03-09 11:44:29 label_models:192] Total number of 74 found in all the manifest files.\n"
     ]
    },
    {
     "name": "stdout",
     "output_type": "stream",
     "text": [
      "[NeMo I 2024-03-09 11:44:29 collections:445] Filtered duration for loading collection is  0.00 hours.\n",
      "[NeMo I 2024-03-09 11:44:29 collections:446] Dataset loaded with 853 items, total duration of  0.63 hours.\n",
      "[NeMo I 2024-03-09 11:44:29 collections:448] # 853 files loaded accounting to # 74 labels\n",
      "[NeMo I 2024-03-09 11:44:29 collections:445] Filtered duration for loading collection is  0.00 hours.\n",
      "[NeMo I 2024-03-09 11:44:29 collections:446] Dataset loaded with 95 items, total duration of  0.07 hours.\n",
      "[NeMo I 2024-03-09 11:44:29 collections:448] # 95 files loaded accounting to # 74 labels\n",
      "[NeMo I 2024-03-09 11:44:29 features:289] PADDING: 16\n"
     ]
    }
   ],
   "source": [
    "speaker_model = nemo_asr.models.EncDecSpeakerLabelModel(cfg=config.model, trainer=trainer)"
   ]
  },
  {
   "cell_type": "markdown",
   "metadata": {
    "colab_type": "text",
    "id": "_AphpMhkSVdU"
   },
   "source": [
    "Before we begin training, let us first create a Tensorboard visualization to monitor progress"
   ]
  },
  {
   "cell_type": "code",
   "execution_count": 19,
   "metadata": {
    "colab": {},
    "colab_type": "code",
    "id": "BUnDpe_5SbDR",
    "ExecuteTime": {
     "end_time": "2024-03-09T09:44:29.480351Z",
     "start_time": "2024-03-09T09:44:29.476022Z"
    }
   },
   "outputs": [
    {
     "name": "stdout",
     "output_type": "stream",
     "text": [
      "To use tensorboard, please use this notebook in a Google Colab environment.\n"
     ]
    }
   ],
   "source": [
    "try:\n",
    "  from google import colab\n",
    "  COLAB_ENV = True\n",
    "except (ImportError, ModuleNotFoundError):\n",
    "  COLAB_ENV = False\n",
    "\n",
    "# Load the TensorBoard notebook extension\n",
    "if COLAB_ENV:\n",
    "  %load_ext tensorboard\n",
    "  %tensorboard --logdir {exp_dir}\n",
    "else:\n",
    "  print(\"To use tensorboard, please use this notebook in a Google Colab environment.\")"
   ]
  },
  {
   "cell_type": "markdown",
   "metadata": {
    "colab_type": "text",
    "id": "Or8g1cksSf8C"
   },
   "source": [
    "As any NeMo model is inherently a PyTorch Lightning Model, it can easily be trained in a single line - trainer.fit(model)!\n",
    "Below we see that the model begins to get modest scores on the validation set after just 5 epochs of training"
   ]
  },
  {
   "cell_type": "code",
   "execution_count": 20,
   "metadata": {
    "colab": {},
    "colab_type": "code",
    "id": "HvYhsOWuSpL_",
    "scrolled": false,
    "ExecuteTime": {
     "end_time": "2024-03-09T09:44:35.797840Z",
     "start_time": "2024-03-09T09:44:29.481053Z"
    }
   },
   "outputs": [
    {
     "name": "stderr",
     "output_type": "stream",
     "text": [
      "LOCAL_RANK: 0 - CUDA_VISIBLE_DEVICES: [0]\n"
     ]
    },
    {
     "name": "stdout",
     "output_type": "stream",
     "text": [
      "[NeMo I 2024-03-09 11:44:29 modelPT:724] Optimizer config = SGD (\n",
      "    Parameter Group 0\n",
      "        dampening: 0\n",
      "        differentiable: False\n",
      "        foreach: None\n",
      "        lr: 0.006\n",
      "        maximize: False\n",
      "        momentum: 0.9\n",
      "        nesterov: False\n",
      "        weight_decay: 0.001\n",
      "    )\n",
      "[NeMo I 2024-03-09 11:44:29 lr_scheduler:915] Scheduler \"<nemo.core.optim.lr_scheduler.CosineAnnealing object at 0x7f71fa6ee650>\" \n",
      "    will be used during training (effective maximum steps = 10) - \n",
      "    Parameters : \n",
      "    (warmup_ratio: 0.1\n",
      "    min_lr: 0.0\n",
      "    max_steps: 10\n",
      "    )\n"
     ]
    },
    {
     "name": "stderr",
     "output_type": "stream",
     "text": [
      "\n",
      "  | Name              | Type                              | Params\n",
      "------------------------------------------------------------------------\n",
      "0 | loss              | AngularSoftmaxLoss                | 0     \n",
      "1 | eval_loss         | AngularSoftmaxLoss                | 0     \n",
      "2 | _accuracy         | TopKClassificationAccuracy        | 0     \n",
      "3 | preprocessor      | AudioToMelSpectrogramPreprocessor | 0     \n",
      "4 | encoder           | ConvASREncoder                    | 4.1 M \n",
      "5 | decoder           | SpeakerDecoder                    | 2.8 M \n",
      "6 | _macro_accuracy   | MulticlassAccuracy                | 0     \n",
      "7 | spec_augmentation | SpectrogramAugmentation           | 0     \n",
      "------------------------------------------------------------------------\n",
      "6.8 M     Trainable params\n",
      "0         Non-trainable params\n",
      "6.8 M     Total params\n",
      "27.358    Total estimated model params size (MB)\n"
     ]
    },
    {
     "data": {
      "text/plain": "Sanity Checking: |          | 0/? [00:00<?, ?it/s]",
      "application/vnd.jupyter.widget-view+json": {
       "version_major": 2,
       "version_minor": 0,
       "model_id": "e6417f88995f4f62a67dc2431045eaf2"
      }
     },
     "metadata": {},
     "output_type": "display_data"
    },
    {
     "name": "stderr",
     "output_type": "stream",
     "text": [
      "[NeMo W 2024-03-09 11:44:29 nemo_logging:349] /home/eyalshw/git/hakol/venv/lib/python3.10/site-packages/pytorch_lightning/trainer/connectors/data_connector.py:441: The 'val_dataloader' does not have many workers which may be a bottleneck. Consider increasing the value of the `num_workers` argument` to `num_workers=15` in the `DataLoader` to improve performance.\n",
      "    \n",
      "[NeMo W 2024-03-09 11:44:30 nemo_logging:349] /home/eyalshw/git/hakol/venv/lib/python3.10/site-packages/pytorch_lightning/trainer/connectors/data_connector.py:441: The 'train_dataloader' does not have many workers which may be a bottleneck. Consider increasing the value of the `num_workers` argument` to `num_workers=15` in the `DataLoader` to improve performance.\n",
      "    \n"
     ]
    },
    {
     "data": {
      "text/plain": "Training: |          | 0/? [00:00<?, ?it/s]",
      "application/vnd.jupyter.widget-view+json": {
       "version_major": 2,
       "version_minor": 0,
       "model_id": "f5ac3e5269e3402b8e9f42daacecf0d9"
      }
     },
     "metadata": {},
     "output_type": "display_data"
    },
    {
     "name": "stdout",
     "output_type": "stream",
     "text": [
      "[NeMo I 2024-03-09 11:44:30 preemption:56] Preemption requires torch distributed to be initialized, disabling preemption\n"
     ]
    },
    {
     "data": {
      "text/plain": "Validation: |          | 0/? [00:00<?, ?it/s]",
      "application/vnd.jupyter.widget-view+json": {
       "version_major": 2,
       "version_minor": 0,
       "model_id": "08abead7d44e48b984c56d4a9f29855d"
      }
     },
     "metadata": {},
     "output_type": "display_data"
    },
    {
     "name": "stderr",
     "output_type": "stream",
     "text": [
      "Epoch 0, global step 2: 'val_loss' reached 12.82072 (best 12.82072), saving model to '/home/eyalshw/git/hakol/notebooks/nemo_experiments/TitaNet-S/2024-03-09_11-44-29/checkpoints/TitaNet-S--val_loss=12.8207-epoch=0.ckpt' as top 3\n"
     ]
    },
    {
     "data": {
      "text/plain": "Validation: |          | 0/? [00:00<?, ?it/s]",
      "application/vnd.jupyter.widget-view+json": {
       "version_major": 2,
       "version_minor": 0,
       "model_id": "3eb3b3faf0fd4e29aa3333cc10696699"
      }
     },
     "metadata": {},
     "output_type": "display_data"
    },
    {
     "name": "stderr",
     "output_type": "stream",
     "text": [
      "Epoch 0, global step 4: 'val_loss' reached 12.80397 (best 12.80397), saving model to '/home/eyalshw/git/hakol/notebooks/nemo_experiments/TitaNet-S/2024-03-09_11-44-29/checkpoints/TitaNet-S--val_loss=12.8040-epoch=0.ckpt' as top 3\n"
     ]
    },
    {
     "data": {
      "text/plain": "Validation: |          | 0/? [00:00<?, ?it/s]",
      "application/vnd.jupyter.widget-view+json": {
       "version_major": 2,
       "version_minor": 0,
       "model_id": "87dbe47cb13b424ab289998fefb2903f"
      }
     },
     "metadata": {},
     "output_type": "display_data"
    },
    {
     "name": "stderr",
     "output_type": "stream",
     "text": [
      "Epoch 0, global step 6: 'val_loss' reached 12.77512 (best 12.77512), saving model to '/home/eyalshw/git/hakol/notebooks/nemo_experiments/TitaNet-S/2024-03-09_11-44-29/checkpoints/TitaNet-S--val_loss=12.7751-epoch=0.ckpt' as top 3\n"
     ]
    },
    {
     "data": {
      "text/plain": "Validation: |          | 0/? [00:00<?, ?it/s]",
      "application/vnd.jupyter.widget-view+json": {
       "version_major": 2,
       "version_minor": 0,
       "model_id": "133172a2578f46cfac1f03d11490529d"
      }
     },
     "metadata": {},
     "output_type": "display_data"
    },
    {
     "name": "stderr",
     "output_type": "stream",
     "text": [
      "Epoch 0, global step 8: 'val_loss' reached 12.75525 (best 12.75525), saving model to '/home/eyalshw/git/hakol/notebooks/nemo_experiments/TitaNet-S/2024-03-09_11-44-29/checkpoints/TitaNet-S--val_loss=12.7553-epoch=0.ckpt' as top 3\n"
     ]
    },
    {
     "data": {
      "text/plain": "Validation: |          | 0/? [00:00<?, ?it/s]",
      "application/vnd.jupyter.widget-view+json": {
       "version_major": 2,
       "version_minor": 0,
       "model_id": "c86ae5f4bd854e53b9f125749d182abf"
      }
     },
     "metadata": {},
     "output_type": "display_data"
    },
    {
     "name": "stderr",
     "output_type": "stream",
     "text": [
      "Epoch 0, global step 10: 'val_loss' reached 12.75183 (best 12.75183), saving model to '/home/eyalshw/git/hakol/notebooks/nemo_experiments/TitaNet-S/2024-03-09_11-44-29/checkpoints/TitaNet-S--val_loss=12.7518-epoch=0.ckpt' as top 3\n",
      "`Trainer.fit` stopped: `max_steps=10` reached.\n"
     ]
    }
   ],
   "source": [
    "trainer.fit(speaker_model)"
   ]
  },
  {
   "cell_type": "markdown",
   "metadata": {
    "colab_type": "text",
    "id": "lSRACGt3UAYn"
   },
   "source": [
    "This config is not suited and designed for an4 so you may observe unstable val_loss"
   ]
  },
  {
   "cell_type": "markdown",
   "metadata": {
    "colab_type": "text",
    "id": "jvtVKO8FZsoe"
   },
   "source": [
    "If you have a test manifest file, we can easily compute test accuracy by running\n",
    "<pre><code>trainer.test(speaker_model, ckpt_path=None)\n",
    "</code></pre>\n"
   ]
  },
  {
   "cell_type": "markdown",
   "metadata": {
    "colab_type": "text",
    "id": "FlBwMsRdZfqg"
   },
   "source": [
    "## For Faster Training\n",
    "We can dramatically improve the time taken to train this model by using Multi GPU training along with Mixed Precision.\n",
    "\n",
    "### Trainer with a distributed backend:\n",
    "<pre><code>trainer = Trainer(devices=2, num_nodes=2, accelerator='gpu', strategy='auto')\n",
    "</code></pre>\n",
    "\n",
    "### Mixed precision:\n",
    "<pre><code>trainer = Trainer(amp_level='O1', precision=16)\n",
    "</code></pre>\n",
    "\n",
    "Of course, you can combine these flags as well."
   ]
  },
  {
   "cell_type": "markdown",
   "metadata": {
    "colab_type": "text",
    "id": "XcnWub9-0TW2"
   },
   "source": [
    "## Saving/Restoring a checkpoint\n",
    "There are multiple ways to save and load models in NeMo. Since all NeMo models are inherently Lightning Modules, we can use the standard way that PyTorch Lightning saves and restores models.\n",
    "\n",
    "NeMo also provides a more advanced model save/restore format, which encapsulates all the parts of the model that are required to restore that model for immediate use.\n",
    "\n",
    "In this example, we will explore both ways of saving and restoring models, but we will focus on the PyTorch Lightning method.\n",
    "\n",
    "## Saving and Restoring via PyTorch Lightning Checkpoints\n",
    "When using NeMo for training, it is advisable to utilize the exp_manager framework. It is tasked with handling checkpointing and logging (Tensorboard as well as WandB optionally!), as well as dealing with multi-node and multi-GPU logging.\n",
    "\n",
    "Since we utilized the exp_manager framework above, we have access to the directory where the checkpoints exist.\n",
    "\n",
    "exp_manager with the default settings will save multiple checkpoints for us -\n",
    "\n",
    "1) A few checkpoints from certain steps of training. They will have --val_loss= tags\n",
    "\n",
    "2) Checkpoints at the last epoch of training are denoted by --last.\n",
    "\n",
    "3) If the model finishes training, it will also have a --last checkpoint."
   ]
  },
  {
   "cell_type": "code",
   "execution_count": 21,
   "metadata": {
    "colab": {},
    "colab_type": "code",
    "id": "QSLjq-edaPt_",
    "ExecuteTime": {
     "end_time": "2024-03-09T09:44:35.802884Z",
     "start_time": "2024-03-09T09:44:35.798871Z"
    }
   },
   "outputs": [
    {
     "data": {
      "text/plain": "['/home/eyalshw/git/hakol/notebooks/nemo_experiments/TitaNet-S/2024-03-09_11-44-29/checkpoints/TitaNet-S--val_loss=12.7518-epoch=0.ckpt',\n '/home/eyalshw/git/hakol/notebooks/nemo_experiments/TitaNet-S/2024-03-09_11-44-29/checkpoints/TitaNet-S--val_loss=12.7553-epoch=0.ckpt',\n '/home/eyalshw/git/hakol/notebooks/nemo_experiments/TitaNet-S/2024-03-09_11-44-29/checkpoints/TitaNet-S--val_loss=12.7518-epoch=0-last.ckpt',\n '/home/eyalshw/git/hakol/notebooks/nemo_experiments/TitaNet-S/2024-03-09_11-44-29/checkpoints/TitaNet-S--val_loss=12.7751-epoch=0.ckpt']"
     },
     "execution_count": 21,
     "metadata": {},
     "output_type": "execute_result"
    }
   ],
   "source": [
    "# Let us list all the checkpoints we have\n",
    "checkpoint_dir = os.path.join(log_dir, 'checkpoints')\n",
    "checkpoint_paths = list(glob.glob(os.path.join(checkpoint_dir, \"*.ckpt\")))\n",
    "checkpoint_paths"
   ]
  },
  {
   "cell_type": "code",
   "execution_count": 22,
   "metadata": {
    "colab": {},
    "colab_type": "code",
    "id": "BwltdVWXaroa",
    "ExecuteTime": {
     "end_time": "2024-03-09T09:44:35.807500Z",
     "start_time": "2024-03-09T09:44:35.803649Z"
    }
   },
   "outputs": [
    {
     "name": "stdout",
     "output_type": "stream",
     "text": [
      "/home/eyalshw/git/hakol/notebooks/nemo_experiments/TitaNet-S/2024-03-09_11-44-29/checkpoints/TitaNet-S--val_loss=12.7518-epoch=0-last.ckpt\n"
     ]
    }
   ],
   "source": [
    "final_checkpoint = list(filter(lambda x: \"-last.ckpt\" in x, checkpoint_paths))[0]\n",
    "print(final_checkpoint)"
   ]
  },
  {
   "cell_type": "markdown",
   "metadata": {
    "colab_type": "text",
    "id": "1tGKKojs0fEh"
   },
   "source": [
    "\n",
    "## Restoring from a PyTorch Lightning checkpoint\n",
    "To restore a model using the LightningModule.load_from_checkpoint() class method."
   ]
  },
  {
   "cell_type": "code",
   "execution_count": 23,
   "metadata": {
    "colab": {},
    "colab_type": "code",
    "id": "EgyP9cYVbFc8",
    "ExecuteTime": {
     "end_time": "2024-03-09T09:44:36.191136Z",
     "start_time": "2024-03-09T09:44:35.808342Z"
    }
   },
   "outputs": [
    {
     "name": "stderr",
     "output_type": "stream",
     "text": [
      "[NeMo W 2024-03-09 11:44:36 modelPT:165] If you intend to do training or fine-tuning, please call the ModelPT.setup_training_data() method and provide a valid configuration file to setup the train data loader.\n",
      "    Train config : \n",
      "    manifest_filepath: /home/eyalshw/git/hakol/notebooks/data/an4/wav/an4_clstk/train.json\n",
      "    sample_rate: 16000\n",
      "    labels:\n",
      "    - fash\n",
      "    - fbbh\n",
      "    - fclc\n",
      "    - fejs\n",
      "    - ffmm\n",
      "    - fjam\n",
      "    - fjdn\n",
      "    - fjmd\n",
      "    - fkai\n",
      "    - fkdo\n",
      "    - flmm2\n",
      "    - flrp\n",
      "    - fmjc\n",
      "    - fmjd\n",
      "    - fnsv\n",
      "    - fplp\n",
      "    - fsaf2\n",
      "    - fsrb\n",
      "    - ftal\n",
      "    - ftmj\n",
      "    - fwxs\n",
      "    - mblb\n",
      "    - mblw\n",
      "    - mbmg\n",
      "    - mcel\n",
      "    - mcen\n",
      "    - mcfl\n",
      "    - mcrt\n",
      "    - mcsc\n",
      "    - mdcs\n",
      "    - mdcs2\n",
      "    - mdmc\n",
      "    - mdxn\n",
      "    - mdxs\n",
      "    - meab\n",
      "    - meht\n",
      "    - mema\n",
      "    - mewl\n",
      "    - mfaa\n",
      "    - mgah\n",
      "    - mjbh\n",
      "    - mjda\n",
      "    - mjdr\n",
      "    - mjes\n",
      "    - mjgk\n",
      "    - mjhp\n",
      "    - mjjs2\n",
      "    - mkdb\n",
      "    - mkem\n",
      "    - mmaf\n",
      "    - mmal\n",
      "    - mmap\n",
      "    - mmdg\n",
      "    - mmkw\n",
      "    - mmsh\n",
      "    - mmtm\n",
      "    - mnfe\n",
      "    - mnjl\n",
      "    - mrab\n",
      "    - mrcb\n",
      "    - mrjc2\n",
      "    - mrmg\n",
      "    - mscg2\n",
      "    - msct\n",
      "    - msjm\n",
      "    - msjr\n",
      "    - mskh\n",
      "    - msmn\n",
      "    - msrb\n",
      "    - mtcv\n",
      "    - mtje\n",
      "    - mtos\n",
      "    - mtxj\n",
      "    - mwhw\n",
      "    batch_size: 8\n",
      "    shuffle: true\n",
      "    is_tarred: false\n",
      "    tarred_audio_filepaths: null\n",
      "    tarred_shard_strategy: scatter\n",
      "    augmentor: null\n",
      "    \n",
      "[NeMo W 2024-03-09 11:44:36 modelPT:172] If you intend to do validation, please call the ModelPT.setup_validation_data() or ModelPT.setup_multiple_validation_data() method and provide a valid configuration file to setup the validation data loader(s). \n",
      "    Validation config : \n",
      "    manifest_filepath: /home/eyalshw/git/hakol/notebooks/data/an4/wav/an4_clstk/dev.json\n",
      "    sample_rate: 16000\n",
      "    labels: null\n",
      "    batch_size: 16\n",
      "    shuffle: false\n",
      "    \n"
     ]
    },
    {
     "name": "stdout",
     "output_type": "stream",
     "text": [
      "[NeMo I 2024-03-09 11:44:36 features:289] PADDING: 16\n"
     ]
    }
   ],
   "source": [
    "restored_model = nemo_asr.models.EncDecSpeakerLabelModel.load_from_checkpoint(final_checkpoint)"
   ]
  },
  {
   "cell_type": "markdown",
   "metadata": {
    "colab_type": "text",
    "id": "AnZVMKZpbI_M"
   },
   "source": [
    "# Finetuning\n",
    "Since we don't have any new manifest file to finetune, I will demonstrate here by using the test manifest file we created earlier. \n",
    "an4 test dataset has a different set of speakers from the train set (total number: 10). And as we didn't split this dataset for validation I will use the same for validation. "
   ]
  },
  {
   "cell_type": "markdown",
   "metadata": {
    "colab_type": "text",
    "id": "kV9gInFwQ2F5"
   },
   "source": [
    "There are a couple of ways we can finetune a speaker recognition model. \n",
    "1. Finetuning using a pretrained model published on NGC. \n",
    "2. Finetuning from a PTL checkpoint. \n",
    "\n",
    "Since finetuning from a large pretrained model is more common, I shall use it to demonstrate finetuning procedure. In order to make finetuning step independent from training from scratch, we use another config. Here we shall use `titanet-finetune.yaml` config, that is created to show finetuning on pretrained titanet-large model. "
   ]
  },
  {
   "cell_type": "markdown",
   "metadata": {},
   "source": [
    "Note: You may use [finetune-script](https://github.com/NVIDIA/NeMo/blob/main/examples/speaker_tasks/recognition/speaker_reco_finetune.py) to launch training in the command line. Following is just a demonstration of the script"
   ]
  },
  {
   "cell_type": "code",
   "execution_count": 24,
   "metadata": {
    "ExecuteTime": {
     "end_time": "2024-03-09T09:44:36.619456Z",
     "start_time": "2024-03-09T09:44:36.191886Z"
    }
   },
   "outputs": [
    {
     "name": "stdout",
     "output_type": "stream",
     "text": [
      "--2024-03-09 11:44:36--  https://raw.githubusercontent.com/NVIDIA/NeMo/main/examples/speaker_tasks/recognition/conf/titanet-finetune.yaml\r\n",
      "Resolving raw.githubusercontent.com (raw.githubusercontent.com)... 185.199.111.133, 185.199.110.133, 185.199.109.133, ...\r\n",
      "Connecting to raw.githubusercontent.com (raw.githubusercontent.com)|185.199.111.133|:443... connected.\r\n",
      "HTTP request sent, awaiting response... 200 OK\r\n",
      "Length: 4507 (4.4K) [text/plain]\r\n",
      "Saving to: ‘conf/titanet-finetune.yaml.1’\r\n",
      "\r\n",
      "titanet-finetune.ya 100%[===================>]   4.40K  --.-KB/s    in 0s      \r\n",
      "\r\n",
      "2024-03-09 11:44:36 (89.6 MB/s) - ‘conf/titanet-finetune.yaml.1’ saved [4507/4507]\r\n",
      "\r\n",
      "name: TitaNet-Finetune\n",
      "sample_rate: 16000\n",
      "init_from_pretrained_model:\n",
      "  speaker_tasks:\n",
      "    name: titanet_large\n",
      "    include:\n",
      "    - preprocessor\n",
      "    - encoder\n",
      "    exclude:\n",
      "    - decoder.final\n",
      "model:\n",
      "  train_ds:\n",
      "    manifest_filepath: ???\n",
      "    sample_rate: 16000\n",
      "    labels: null\n",
      "    batch_size: 8\n",
      "    shuffle: true\n",
      "    is_tarred: false\n",
      "    tarred_audio_filepaths: null\n",
      "    tarred_shard_strategy: scatter\n",
      "    augmentor:\n",
      "      speed:\n",
      "        prob: 0.3\n",
      "        sr: 16000\n",
      "        resample_type: kaiser_fast\n",
      "        min_speed_rate: 0.95\n",
      "        max_speed_rate: 1.05\n",
      "  validation_ds:\n",
      "    manifest_filepath: ???\n",
      "    sample_rate: 16000\n",
      "    labels: null\n",
      "    batch_size: 8\n",
      "    shuffle: false\n",
      "  model_defaults:\n",
      "    filters: 1024\n",
      "    repeat: 3\n",
      "    dropout: 0.1\n",
      "    separable: true\n",
      "    se: true\n",
      "    se_context_size: -1\n",
      "    kernel_size_factor: 1.0\n",
      "  preprocessor:\n",
      "    _target_: nemo.collections.asr.modules.AudioToMelSpectrogramPreprocessor\n",
      "    normalize: per_feature\n",
      "    window_size: 0.025\n",
      "    sample_rate: 16000\n",
      "    window_stride: 0.01\n",
      "    window: hann\n",
      "    features: 80\n",
      "    n_fft: 512\n",
      "    frame_splicing: 1\n",
      "    dither: 1.0e-05\n",
      "  encoder:\n",
      "    _target_: nemo.collections.asr.modules.ConvASREncoder\n",
      "    feat_in: 80\n",
      "    activation: relu\n",
      "    conv_mask: true\n",
      "    jasper:\n",
      "    - filters: ${model.model_defaults.filters}\n",
      "      repeat: 1\n",
      "      kernel:\n",
      "      - 3\n",
      "      stride:\n",
      "      - 1\n",
      "      dilation:\n",
      "      - 1\n",
      "      dropout: 0.0\n",
      "      residual: false\n",
      "      separable: ${model.model_defaults.separable}\n",
      "      se: ${model.model_defaults.se}\n",
      "      se_context_size: ${model.model_defaults.se_context_size}\n",
      "    - filters: ${model.model_defaults.filters}\n",
      "      repeat: ${model.model_defaults.repeat}\n",
      "      kernel:\n",
      "      - 7\n",
      "      stride:\n",
      "      - 1\n",
      "      dilation:\n",
      "      - 1\n",
      "      dropout: ${model.model_defaults.dropout}\n",
      "      residual: true\n",
      "      separable: ${model.model_defaults.separable}\n",
      "      se: ${model.model_defaults.se}\n",
      "      se_context_size: ${model.model_defaults.se_context_size}\n",
      "    - filters: ${model.model_defaults.filters}\n",
      "      repeat: ${model.model_defaults.repeat}\n",
      "      kernel:\n",
      "      - 11\n",
      "      stride:\n",
      "      - 1\n",
      "      dilation:\n",
      "      - 1\n",
      "      dropout: ${model.model_defaults.dropout}\n",
      "      residual: true\n",
      "      separable: ${model.model_defaults.separable}\n",
      "      se: ${model.model_defaults.se}\n",
      "      se_context_size: ${model.model_defaults.se_context_size}\n",
      "    - filters: ${model.model_defaults.filters}\n",
      "      repeat: ${model.model_defaults.repeat}\n",
      "      kernel:\n",
      "      - 15\n",
      "      stride:\n",
      "      - 1\n",
      "      dilation:\n",
      "      - 1\n",
      "      dropout: ${model.model_defaults.dropout}\n",
      "      residual: true\n",
      "      separable: ${model.model_defaults.separable}\n",
      "      se: ${model.model_defaults.se}\n",
      "      se_context_size: ${model.model_defaults.se_context_size}\n",
      "    - filters: 3072\n",
      "      repeat: 1\n",
      "      kernel:\n",
      "      - 1\n",
      "      stride:\n",
      "      - 1\n",
      "      dilation:\n",
      "      - 1\n",
      "      dropout: 0.0\n",
      "      residual: false\n",
      "      separable: ${model.model_defaults.separable}\n",
      "      se: ${model.model_defaults.se}\n",
      "      se_context_size: ${model.model_defaults.se_context_size}\n",
      "  decoder:\n",
      "    _target_: nemo.collections.asr.modules.SpeakerDecoder\n",
      "    feat_in: 3072\n",
      "    num_classes: ???\n",
      "    pool_mode: attention\n",
      "    emb_sizes: 192\n",
      "  loss:\n",
      "    _target_: nemo.collections.asr.losses.angularloss.AngularSoftmaxLoss\n",
      "    scale: 30\n",
      "    margin: 0.2\n",
      "  optim_param_groups:\n",
      "    encoder:\n",
      "      lr: 0.001\n",
      "  optim:\n",
      "    name: adamw\n",
      "    lr: 0.0001\n",
      "    weight_decay: 0.0002\n",
      "    sched:\n",
      "      name: CosineAnnealing\n",
      "      warmup_ratio: 0.1\n",
      "      min_lr: 0.0\n",
      "trainer:\n",
      "  devices: 1\n",
      "  max_epochs: 10\n",
      "  max_steps: -1\n",
      "  num_nodes: 1\n",
      "  accelerator: gpu\n",
      "  strategy: ddp\n",
      "  deterministic: true\n",
      "  enable_checkpointing: false\n",
      "  logger: false\n",
      "  log_every_n_steps: 1\n",
      "  val_check_interval: 1.0\n",
      "  gradient_clip_val: 1.0\n",
      "exp_manager:\n",
      "  exp_dir: null\n",
      "  name: TitaNet-Finetune\n",
      "  create_tensorboard_logger: true\n",
      "  create_checkpoint_callback: true\n"
     ]
    }
   ],
   "source": [
    "!wget -P conf https://raw.githubusercontent.com/NVIDIA/NeMo/$BRANCH/examples/speaker_tasks/recognition/conf/titanet-finetune.yaml\n",
    "MODEL_CONFIG = os.path.join(NEMO_ROOT,'conf/titanet-finetune.yaml')\n",
    "finetune_config = OmegaConf.load(MODEL_CONFIG)\n",
    "print(OmegaConf.to_yaml(finetune_config))"
   ]
  },
  {
   "cell_type": "markdown",
   "metadata": {},
   "source": [
    "For step 2, if one would like to finetune from a PTL checkpoint, `init_from_pretrained_model` in config should be replaced with `init_from_nemo_model` and need to provide the path to checkpoint. "
   ]
  },
  {
   "cell_type": "code",
   "execution_count": 25,
   "metadata": {
    "colab": {},
    "colab_type": "code",
    "id": "HtXUWmYLQ0PJ",
    "ExecuteTime": {
     "end_time": "2024-03-09T09:44:36.623699Z",
     "start_time": "2024-03-09T09:44:36.620489Z"
    }
   },
   "outputs": [],
   "source": [
    "test_manifest = os.path.join(data_dir,'an4/wav/an4test_clstk/test.json')\n",
    "finetune_config.model.train_ds.manifest_filepath = test_manifest\n",
    "finetune_config.model.validation_ds.manifest_filepath = test_manifest\n",
    "finetune_config.model.decoder.num_classes = 10"
   ]
  },
  {
   "cell_type": "markdown",
   "metadata": {
    "colab_type": "text",
    "id": "IHy1zE1cTDZn"
   },
   "source": [
    "So we have set up the data and changed the decoder required for finetune, we now just need to create a trainer and start training with a smaller learning rate for fewer epochs"
   ]
  },
  {
   "cell_type": "code",
   "execution_count": 26,
   "metadata": {
    "colab": {},
    "colab_type": "code",
    "id": "nBmF6tQITSRl",
    "ExecuteTime": {
     "end_time": "2024-03-09T09:44:36.630523Z",
     "start_time": "2024-03-09T09:44:36.624354Z"
    }
   },
   "outputs": [
    {
     "name": "stdout",
     "output_type": "stream",
     "text": [
      "devices: 1\n",
      "accelerator: gpu\n",
      "max_epochs: 5\n",
      "max_steps: -1\n",
      "num_nodes: 1\n",
      "accumulate_grad_batches: 1\n",
      "enable_checkpointing: false\n",
      "logger: false\n",
      "log_every_n_steps: 1\n",
      "val_check_interval: 1.0\n"
     ]
    }
   ],
   "source": [
    "# Setup the new trainer object\n",
    "# Let us modify some trainer configs for this demo\n",
    "# Checks if we have GPU available and uses it\n",
    "accelerator = 'gpu' if torch.cuda.is_available() else 'cpu'\n",
    "\n",
    "trainer_config = OmegaConf.create(dict(\n",
    "    devices=1,\n",
    "    accelerator=accelerator,\n",
    "    max_epochs=5,\n",
    "    max_steps=-1,  # computed at runtime if not set\n",
    "    num_nodes=1,\n",
    "    accumulate_grad_batches=1,\n",
    "    enable_checkpointing=False,  # Provided by exp_manager\n",
    "    logger=False,  # Provided by exp_manager\n",
    "    log_every_n_steps=1,  # Interval of logging.\n",
    "    val_check_interval=1.0,  # Set to 0.25 to check 4 times per epoch, or an int for number of iterations\n",
    "))\n",
    "print(OmegaConf.to_yaml(trainer_config))"
   ]
  },
  {
   "cell_type": "code",
   "execution_count": 27,
   "metadata": {
    "colab": {},
    "colab_type": "code",
    "id": "bRz-8-xzUHKZ",
    "ExecuteTime": {
     "end_time": "2024-03-09T09:44:36.646231Z",
     "start_time": "2024-03-09T09:44:36.631152Z"
    }
   },
   "outputs": [
    {
     "name": "stderr",
     "output_type": "stream",
     "text": [
      "GPU available: True (cuda), used: True\n",
      "TPU available: False, using: 0 TPU cores\n",
      "IPU available: False, using: 0 IPUs\n",
      "HPU available: False, using: 0 HPUs\n",
      "`Trainer(val_check_interval=1.0)` was configured so validation will run at the end of the training epoch..\n"
     ]
    }
   ],
   "source": [
    "trainer_finetune = pl.Trainer(**trainer_config)"
   ]
  },
  {
   "cell_type": "markdown",
   "metadata": {
    "colab_type": "text",
    "id": "EOwHTkW-UUy8"
   },
   "source": [
    "## Setting the trainer to the restored model\n",
    "Setting the trainer to the restored model"
   ]
  },
  {
   "cell_type": "code",
   "execution_count": 28,
   "metadata": {
    "colab": {},
    "colab_type": "code",
    "id": "0FhYQQQOUPIk",
    "ExecuteTime": {
     "end_time": "2024-03-09T09:44:36.669403Z",
     "start_time": "2024-03-09T09:44:36.647025Z"
    }
   },
   "outputs": [
    {
     "name": "stdout",
     "output_type": "stream",
     "text": [
      "[NeMo I 2024-03-09 11:44:36 exp_manager:396] Experiments will be logged at /home/eyalshw/git/hakol/notebooks/nemo_experiments/TitaNet-S/2024-03-09_11-44-29\n",
      "[NeMo I 2024-03-09 11:44:36 exp_manager:856] TensorboardLogger has been set up\n",
      "/home/eyalshw/git/hakol/notebooks/nemo_experiments/TitaNet-S/2024-03-09_11-44-29\n"
     ]
    }
   ],
   "source": [
    "log_dir_finetune = exp_manager(trainer_finetune, config.get(\"exp_manager\", None))\n",
    "print(log_dir_finetune)"
   ]
  },
  {
   "cell_type": "markdown",
   "metadata": {
    "colab_type": "text",
    "id": "lc3fzGYVVTyi"
   },
   "source": [
    "## Fine-tune training step\n",
    "\n",
    "When fine-tuning on a truly new dataset, we will not see such a dramatic improvement in performance. However, it should still converge a little faster than if it was trained from scratch."
   ]
  },
  {
   "cell_type": "code",
   "execution_count": 29,
   "metadata": {
    "ExecuteTime": {
     "end_time": "2024-03-09T09:44:37.672150Z",
     "start_time": "2024-03-09T09:44:36.671744Z"
    }
   },
   "outputs": [
    {
     "name": "stdout",
     "output_type": "stream",
     "text": [
      "[NeMo I 2024-03-09 11:44:36 collections:445] Filtered duration for loading collection is  0.00 hours.\n",
      "[NeMo I 2024-03-09 11:44:36 collections:446] Dataset loaded with 130 items, total duration of  0.10 hours.\n",
      "[NeMo I 2024-03-09 11:44:36 collections:448] # 130 files loaded accounting to # 10 labels\n"
     ]
    },
    {
     "name": "stderr",
     "output_type": "stream",
     "text": [
      "[NeMo W 2024-03-09 11:44:36 label_models:192] Total number of 10 found in all the manifest files.\n"
     ]
    },
    {
     "name": "stdout",
     "output_type": "stream",
     "text": [
      "[NeMo I 2024-03-09 11:44:36 collections:445] Filtered duration for loading collection is  0.00 hours.\n",
      "[NeMo I 2024-03-09 11:44:36 collections:446] Dataset loaded with 130 items, total duration of  0.10 hours.\n",
      "[NeMo I 2024-03-09 11:44:36 collections:448] # 130 files loaded accounting to # 10 labels\n",
      "[NeMo I 2024-03-09 11:44:36 collections:445] Filtered duration for loading collection is  0.00 hours.\n",
      "[NeMo I 2024-03-09 11:44:36 collections:446] Dataset loaded with 130 items, total duration of  0.10 hours.\n",
      "[NeMo I 2024-03-09 11:44:36 collections:448] # 130 files loaded accounting to # 10 labels\n",
      "[NeMo I 2024-03-09 11:44:36 features:289] PADDING: 16\n",
      "[NeMo I 2024-03-09 11:44:36 cloud:58] Found existing object /home/eyalshw/.cache/torch/NeMo/NeMo_1.23.0rc0/titanet-l/11ba0924fdf87c049e339adbf6899d48/titanet-l.nemo.\n",
      "[NeMo I 2024-03-09 11:44:36 cloud:64] Re-using file from: /home/eyalshw/.cache/torch/NeMo/NeMo_1.23.0rc0/titanet-l/11ba0924fdf87c049e339adbf6899d48/titanet-l.nemo\n",
      "[NeMo I 2024-03-09 11:44:36 common:815] Instantiating model from pre-trained checkpoint\n"
     ]
    },
    {
     "name": "stderr",
     "output_type": "stream",
     "text": [
      "[NeMo W 2024-03-09 11:44:37 modelPT:165] If you intend to do training or fine-tuning, please call the ModelPT.setup_training_data() method and provide a valid configuration file to setup the train data loader.\n",
      "    Train config : \n",
      "    manifest_filepath: /manifests/combined_fisher_swbd_voxceleb12_librispeech/train.json\n",
      "    sample_rate: 16000\n",
      "    labels: null\n",
      "    batch_size: 64\n",
      "    shuffle: true\n",
      "    is_tarred: false\n",
      "    tarred_audio_filepaths: null\n",
      "    tarred_shard_strategy: scatter\n",
      "    augmentor:\n",
      "      noise:\n",
      "        manifest_path: /manifests/noise/rir_noise_manifest.json\n",
      "        prob: 0.5\n",
      "        min_snr_db: 0\n",
      "        max_snr_db: 15\n",
      "      speed:\n",
      "        prob: 0.5\n",
      "        sr: 16000\n",
      "        resample_type: kaiser_fast\n",
      "        min_speed_rate: 0.95\n",
      "        max_speed_rate: 1.05\n",
      "    num_workers: 15\n",
      "    pin_memory: true\n",
      "    \n",
      "[NeMo W 2024-03-09 11:44:37 modelPT:172] If you intend to do validation, please call the ModelPT.setup_validation_data() or ModelPT.setup_multiple_validation_data() method and provide a valid configuration file to setup the validation data loader(s). \n",
      "    Validation config : \n",
      "    manifest_filepath: /manifests/combined_fisher_swbd_voxceleb12_librispeech/dev.json\n",
      "    sample_rate: 16000\n",
      "    labels: null\n",
      "    batch_size: 128\n",
      "    shuffle: false\n",
      "    num_workers: 15\n",
      "    pin_memory: true\n",
      "    \n"
     ]
    },
    {
     "name": "stdout",
     "output_type": "stream",
     "text": [
      "[NeMo I 2024-03-09 11:44:37 features:289] PADDING: 16\n",
      "[NeMo I 2024-03-09 11:44:37 save_restore_connector:263] Model EncDecSpeakerLabelModel was successfully restored from /home/eyalshw/.cache/torch/NeMo/NeMo_1.23.0rc0/titanet-l/11ba0924fdf87c049e339adbf6899d48/titanet-l.nemo.\n",
      "[NeMo I 2024-03-09 11:44:37 modelPT:1161] Model checkpoint partially restored from pretrained checkpoint with name `titanet_large`\n",
      "[NeMo I 2024-03-09 11:44:37 modelPT:1163] The following parameters were excluded when loading from pretrained checkpoint with name `titanet_large` : ['decoder.final.weight']\n",
      "[NeMo I 2024-03-09 11:44:37 modelPT:1166] Make sure that this is what you wanted!\n"
     ]
    }
   ],
   "source": [
    "speaker_model = nemo_asr.models.EncDecSpeakerLabelModel(cfg=finetune_config.model, trainer=trainer_finetune)\n",
    "speaker_model.maybe_init_from_pretrained_checkpoint(finetune_config)"
   ]
  },
  {
   "cell_type": "markdown",
   "metadata": {},
   "source": [
    "In the config, we keep weights of preprocessor and encoder, and attach a new decoder as mentioned in above section to match num of classes of new data"
   ]
  },
  {
   "cell_type": "code",
   "execution_count": 30,
   "metadata": {
    "colab": {},
    "colab_type": "code",
    "id": "uFIOsuFYVLzr",
    "ExecuteTime": {
     "end_time": "2024-03-09T09:45:26.038303Z",
     "start_time": "2024-03-09T09:44:37.672994Z"
    }
   },
   "outputs": [
    {
     "name": "stderr",
     "output_type": "stream",
     "text": [
      "[NeMo W 2024-03-09 11:44:37 nemo_logging:349] /home/eyalshw/git/hakol/venv/lib/python3.10/site-packages/pytorch_lightning/callbacks/model_checkpoint.py:653: Checkpoint directory /home/eyalshw/git/hakol/notebooks/nemo_experiments/TitaNet-S/2024-03-09_11-44-29/checkpoints exists and is not empty.\n",
      "    \n",
      "LOCAL_RANK: 0 - CUDA_VISIBLE_DEVICES: [0]\n"
     ]
    },
    {
     "name": "stdout",
     "output_type": "stream",
     "text": [
      "[NeMo I 2024-03-09 11:44:37 modelPT:724] Optimizer config = AdamW (\n",
      "    Parameter Group 0\n",
      "        amsgrad: False\n",
      "        betas: (0.9, 0.999)\n",
      "        capturable: False\n",
      "        differentiable: False\n",
      "        eps: 1e-08\n",
      "        foreach: None\n",
      "        fused: None\n",
      "        lr: 0.0001\n",
      "        maximize: False\n",
      "        weight_decay: 0.0002\n",
      "    \n",
      "    Parameter Group 1\n",
      "        amsgrad: False\n",
      "        betas: (0.9, 0.999)\n",
      "        capturable: False\n",
      "        differentiable: False\n",
      "        eps: 1e-08\n",
      "        foreach: None\n",
      "        fused: None\n",
      "        lr: 0.001\n",
      "        maximize: False\n",
      "        weight_decay: 0.0002\n",
      "    )\n",
      "[NeMo I 2024-03-09 11:44:37 lr_scheduler:915] Scheduler \"<nemo.core.optim.lr_scheduler.CosineAnnealing object at 0x7f71ce4d8b80>\" \n",
      "    will be used during training (effective maximum steps = 85) - \n",
      "    Parameters : \n",
      "    (warmup_ratio: 0.1\n",
      "    min_lr: 0.0\n",
      "    max_steps: 85\n",
      "    )\n"
     ]
    },
    {
     "name": "stderr",
     "output_type": "stream",
     "text": [
      "\n",
      "  | Name            | Type                              | Params\n",
      "----------------------------------------------------------------------\n",
      "0 | loss            | AngularSoftmaxLoss                | 0     \n",
      "1 | eval_loss       | AngularSoftmaxLoss                | 0     \n",
      "2 | _accuracy       | TopKClassificationAccuracy        | 0     \n",
      "3 | preprocessor    | AudioToMelSpectrogramPreprocessor | 0     \n",
      "4 | encoder         | ConvASREncoder                    | 19.4 M\n",
      "5 | decoder         | SpeakerDecoder                    | 2.8 M \n",
      "6 | _macro_accuracy | MulticlassAccuracy                | 0     \n",
      "----------------------------------------------------------------------\n",
      "22.1 M    Trainable params\n",
      "0         Non-trainable params\n",
      "22.1 M    Total params\n",
      "88.497    Total estimated model params size (MB)\n"
     ]
    },
    {
     "data": {
      "text/plain": "Sanity Checking: |          | 0/? [00:00<?, ?it/s]",
      "application/vnd.jupyter.widget-view+json": {
       "version_major": 2,
       "version_minor": 0,
       "model_id": "314d12858a6a40308cc05220e6c5cb6a"
      }
     },
     "metadata": {},
     "output_type": "display_data"
    },
    {
     "name": "stderr",
     "output_type": "stream",
     "text": [
      "[NeMo W 2024-03-09 11:44:37 nemo_logging:349] /home/eyalshw/git/hakol/venv/lib/python3.10/site-packages/pytorch_lightning/trainer/connectors/data_connector.py:441: The 'val_dataloader' does not have many workers which may be a bottleneck. Consider increasing the value of the `num_workers` argument` to `num_workers=15` in the `DataLoader` to improve performance.\n",
      "    \n",
      "[NeMo W 2024-03-09 11:44:38 nemo_logging:349] /home/eyalshw/git/hakol/venv/lib/python3.10/site-packages/pytorch_lightning/trainer/connectors/data_connector.py:441: The 'train_dataloader' does not have many workers which may be a bottleneck. Consider increasing the value of the `num_workers` argument` to `num_workers=15` in the `DataLoader` to improve performance.\n",
      "    \n"
     ]
    },
    {
     "data": {
      "text/plain": "Training: |          | 0/? [00:00<?, ?it/s]",
      "application/vnd.jupyter.widget-view+json": {
       "version_major": 2,
       "version_minor": 0,
       "model_id": "21f4bc85f2c844c0a8b02a78587a7022"
      }
     },
     "metadata": {},
     "output_type": "display_data"
    },
    {
     "name": "stdout",
     "output_type": "stream",
     "text": [
      "[NeMo I 2024-03-09 11:44:38 preemption:56] Preemption requires torch distributed to be initialized, disabling preemption\n"
     ]
    },
    {
     "data": {
      "text/plain": "Validation: |          | 0/? [00:00<?, ?it/s]",
      "application/vnd.jupyter.widget-view+json": {
       "version_major": 2,
       "version_minor": 0,
       "model_id": "35fe6a358dee445a9e03670d520b4420"
      }
     },
     "metadata": {},
     "output_type": "display_data"
    },
    {
     "name": "stderr",
     "output_type": "stream",
     "text": [
      "Epoch 0, global step 17: 'val_loss' reached 16.51877 (best 16.51877), saving model to '/home/eyalshw/git/hakol/notebooks/nemo_experiments/TitaNet-S/2024-03-09_11-44-29/checkpoints/TitaNet-S--val_loss=16.5188-epoch=0.ckpt' as top 3\n"
     ]
    },
    {
     "data": {
      "text/plain": "Validation: |          | 0/? [00:00<?, ?it/s]",
      "application/vnd.jupyter.widget-view+json": {
       "version_major": 2,
       "version_minor": 0,
       "model_id": "fcf6ca207ac64902acbc2d00bb7ec421"
      }
     },
     "metadata": {},
     "output_type": "display_data"
    },
    {
     "name": "stderr",
     "output_type": "stream",
     "text": [
      "Epoch 1, global step 34: 'val_loss' reached 13.45453 (best 13.45453), saving model to '/home/eyalshw/git/hakol/notebooks/nemo_experiments/TitaNet-S/2024-03-09_11-44-29/checkpoints/TitaNet-S--val_loss=13.4545-epoch=1.ckpt' as top 3\n"
     ]
    },
    {
     "data": {
      "text/plain": "Validation: |          | 0/? [00:00<?, ?it/s]",
      "application/vnd.jupyter.widget-view+json": {
       "version_major": 2,
       "version_minor": 0,
       "model_id": "2b51541d022d455e8a01b4d2f5c126e5"
      }
     },
     "metadata": {},
     "output_type": "display_data"
    },
    {
     "name": "stderr",
     "output_type": "stream",
     "text": [
      "Epoch 2, global step 51: 'val_loss' reached 3.45135 (best 3.45135), saving model to '/home/eyalshw/git/hakol/notebooks/nemo_experiments/TitaNet-S/2024-03-09_11-44-29/checkpoints/TitaNet-S--val_loss=3.4514-epoch=2.ckpt' as top 3\n"
     ]
    },
    {
     "data": {
      "text/plain": "Validation: |          | 0/? [00:00<?, ?it/s]",
      "application/vnd.jupyter.widget-view+json": {
       "version_major": 2,
       "version_minor": 0,
       "model_id": "025ecb35a6404700b9471733d8594e14"
      }
     },
     "metadata": {},
     "output_type": "display_data"
    },
    {
     "name": "stderr",
     "output_type": "stream",
     "text": [
      "Epoch 3, global step 68: 'val_loss' reached 0.79935 (best 0.79935), saving model to '/home/eyalshw/git/hakol/notebooks/nemo_experiments/TitaNet-S/2024-03-09_11-44-29/checkpoints/TitaNet-S--val_loss=0.7993-epoch=3.ckpt' as top 3\n"
     ]
    },
    {
     "data": {
      "text/plain": "Validation: |          | 0/? [00:00<?, ?it/s]",
      "application/vnd.jupyter.widget-view+json": {
       "version_major": 2,
       "version_minor": 0,
       "model_id": "c563c6c6ba9b441b977542905db3e1cf"
      }
     },
     "metadata": {},
     "output_type": "display_data"
    },
    {
     "name": "stderr",
     "output_type": "stream",
     "text": [
      "Epoch 4, global step 85: 'val_loss' reached 0.44527 (best 0.44527), saving model to '/home/eyalshw/git/hakol/notebooks/nemo_experiments/TitaNet-S/2024-03-09_11-44-29/checkpoints/TitaNet-S--val_loss=0.4453-epoch=4.ckpt' as top 3\n",
      "`Trainer.fit` stopped: `max_epochs=5` reached.\n"
     ]
    }
   ],
   "source": [
    "## Fine-tuning for 5 epochs¶\n",
    "trainer_finetune.fit(speaker_model)"
   ]
  },
  {
   "cell_type": "markdown",
   "metadata": {},
   "source": [
    "Tip: Add more data augmentation and dropout while finetuning on your data"
   ]
  },
  {
   "cell_type": "markdown",
   "metadata": {
    "colab_type": "text",
    "id": "5DNidtl4VplU"
   },
   "source": [
    "# Saving .nemo file\n",
    "Now we can save the whole config and model parameters in a single .nemo and we can anytime restore from it"
   ]
  },
  {
   "cell_type": "code",
   "execution_count": 31,
   "metadata": {
    "colab": {},
    "colab_type": "code",
    "id": "am5wej6-VdZW",
    "ExecuteTime": {
     "end_time": "2024-03-09T09:45:26.364031Z",
     "start_time": "2024-03-09T09:45:26.039218Z"
    }
   },
   "outputs": [],
   "source": [
    "saved_model = 'titanet-small-finetune.nemo'\n",
    "restored_model.save_to(os.path.join(log_dir_finetune, '..',saved_model))"
   ]
  },
  {
   "cell_type": "code",
   "execution_count": 32,
   "metadata": {
    "colab": {},
    "colab_type": "code",
    "id": "WnBhFJefV-Pf",
    "ExecuteTime": {
     "end_time": "2024-03-09T09:45:26.597665Z",
     "start_time": "2024-03-09T09:45:26.364946Z"
    }
   },
   "outputs": [
    {
     "name": "stdout",
     "output_type": "stream",
     "text": [
      "2024-03-09_11-32-42  2024-03-09_11-42-29  titanet-small-finetune.nemo\r\n",
      "2024-03-09_11-39-55  2024-03-09_11-44-29\r\n"
     ]
    }
   ],
   "source": [
    "!ls {log_dir_finetune}/.."
   ]
  },
  {
   "cell_type": "code",
   "execution_count": 33,
   "metadata": {
    "colab": {},
    "colab_type": "code",
    "id": "kVx1hNP_V_iz",
    "ExecuteTime": {
     "end_time": "2024-03-09T09:45:26.817633Z",
     "start_time": "2024-03-09T09:45:26.599670Z"
    }
   },
   "outputs": [
    {
     "name": "stderr",
     "output_type": "stream",
     "text": [
      "[NeMo W 2024-03-09 11:45:26 modelPT:165] If you intend to do training or fine-tuning, please call the ModelPT.setup_training_data() method and provide a valid configuration file to setup the train data loader.\n",
      "    Train config : \n",
      "    manifest_filepath: /home/eyalshw/git/hakol/notebooks/data/an4/wav/an4_clstk/train.json\n",
      "    sample_rate: 16000\n",
      "    labels:\n",
      "    - fash\n",
      "    - fbbh\n",
      "    - fclc\n",
      "    - fejs\n",
      "    - ffmm\n",
      "    - fjam\n",
      "    - fjdn\n",
      "    - fjmd\n",
      "    - fkai\n",
      "    - fkdo\n",
      "    - flmm2\n",
      "    - flrp\n",
      "    - fmjc\n",
      "    - fmjd\n",
      "    - fnsv\n",
      "    - fplp\n",
      "    - fsaf2\n",
      "    - fsrb\n",
      "    - ftal\n",
      "    - ftmj\n",
      "    - fwxs\n",
      "    - mblb\n",
      "    - mblw\n",
      "    - mbmg\n",
      "    - mcel\n",
      "    - mcen\n",
      "    - mcfl\n",
      "    - mcrt\n",
      "    - mcsc\n",
      "    - mdcs\n",
      "    - mdcs2\n",
      "    - mdmc\n",
      "    - mdxn\n",
      "    - mdxs\n",
      "    - meab\n",
      "    - meht\n",
      "    - mema\n",
      "    - mewl\n",
      "    - mfaa\n",
      "    - mgah\n",
      "    - mjbh\n",
      "    - mjda\n",
      "    - mjdr\n",
      "    - mjes\n",
      "    - mjgk\n",
      "    - mjhp\n",
      "    - mjjs2\n",
      "    - mkdb\n",
      "    - mkem\n",
      "    - mmaf\n",
      "    - mmal\n",
      "    - mmap\n",
      "    - mmdg\n",
      "    - mmkw\n",
      "    - mmsh\n",
      "    - mmtm\n",
      "    - mnfe\n",
      "    - mnjl\n",
      "    - mrab\n",
      "    - mrcb\n",
      "    - mrjc2\n",
      "    - mrmg\n",
      "    - mscg2\n",
      "    - msct\n",
      "    - msjm\n",
      "    - msjr\n",
      "    - mskh\n",
      "    - msmn\n",
      "    - msrb\n",
      "    - mtcv\n",
      "    - mtje\n",
      "    - mtos\n",
      "    - mtxj\n",
      "    - mwhw\n",
      "    batch_size: 8\n",
      "    shuffle: true\n",
      "    is_tarred: false\n",
      "    tarred_audio_filepaths: null\n",
      "    tarred_shard_strategy: scatter\n",
      "    augmentor: null\n",
      "    \n",
      "[NeMo W 2024-03-09 11:45:26 modelPT:172] If you intend to do validation, please call the ModelPT.setup_validation_data() or ModelPT.setup_multiple_validation_data() method and provide a valid configuration file to setup the validation data loader(s). \n",
      "    Validation config : \n",
      "    manifest_filepath: /home/eyalshw/git/hakol/notebooks/data/an4/wav/an4_clstk/dev.json\n",
      "    sample_rate: 16000\n",
      "    labels: null\n",
      "    batch_size: 16\n",
      "    shuffle: false\n",
      "    \n"
     ]
    },
    {
     "name": "stdout",
     "output_type": "stream",
     "text": [
      "[NeMo I 2024-03-09 11:45:26 features:289] PADDING: 16\n",
      "[NeMo I 2024-03-09 11:45:26 save_restore_connector:263] Model EncDecSpeakerLabelModel was successfully restored from /home/eyalshw/git/hakol/notebooks/nemo_experiments/TitaNet-S/titanet-small-finetune.nemo.\n"
     ]
    }
   ],
   "source": [
    "# restore from a save model\n",
    "restored_model = nemo_asr.models.EncDecSpeakerLabelModel.restore_from(os.path.join(log_dir_finetune, '..', saved_model))\n"
   ]
  },
  {
   "cell_type": "markdown",
   "metadata": {
    "colab_type": "text",
    "id": "80tLWTN40uaB"
   },
   "source": [
    "# Speaker Verification"
   ]
  },
  {
   "cell_type": "markdown",
   "metadata": {
    "colab_type": "text",
    "id": "VciRUIRz0y6P"
   },
   "source": [
    "Training for a speaker verification model is almost the same as the speaker recognition model with a change in the loss function. Angular Loss is a better function to train for a speaker verification model as the model is trained in an end-to-end manner with loss optimizing for embeddings cluster to be far from each other for different speaker by maximizing the angle between these clusters"
   ]
  },
  {
   "cell_type": "markdown",
   "metadata": {
    "colab_type": "text",
    "id": "ULTjBuFI19Js"
   },
   "source": [
    "To train for verification we just need to toggle `angular` flag in `config.model.decoder.params.angular = True` else set it to `False` to train with cross-entropy loss for identification purposes. \n",
    "Once we set this, the loss will be changed to angular loss and we can follow the above steps to the model.\n",
    "Note the scale and margin values to be set for the loss function are present at `config.model.loss.scale` and `config.model.loss.margin`"
   ]
  },
  {
   "cell_type": "markdown",
   "metadata": {
    "colab_type": "text",
    "id": "LcKiNEY032-t"
   },
   "source": [
    "## Extract Speaker Embeddings\n",
    "Once you have a trained model or use one of our pretrained nemo checkpoints to get speaker embeddings for any speaker.\n",
    "\n",
    "To demonstrate this we shall use `nemo_asr.models.EncDecSpeakerLabelModel` with say 5 audio_samples from our dev manifest set. This model is specifically for inference purposes to extract embeddings from a trained `.nemo` model"
   ]
  },
  {
   "cell_type": "code",
   "execution_count": 34,
   "metadata": {
    "colab": {},
    "colab_type": "code",
    "id": "uXEzKMHf3r6-",
    "ExecuteTime": {
     "end_time": "2024-03-09T09:45:27.051067Z",
     "start_time": "2024-03-09T09:45:26.818964Z"
    }
   },
   "outputs": [
    {
     "name": "stderr",
     "output_type": "stream",
     "text": [
      "[NeMo W 2024-03-09 11:45:26 modelPT:165] If you intend to do training or fine-tuning, please call the ModelPT.setup_training_data() method and provide a valid configuration file to setup the train data loader.\n",
      "    Train config : \n",
      "    manifest_filepath: /home/eyalshw/git/hakol/notebooks/data/an4/wav/an4_clstk/train.json\n",
      "    sample_rate: 16000\n",
      "    labels:\n",
      "    - fash\n",
      "    - fbbh\n",
      "    - fclc\n",
      "    - fejs\n",
      "    - ffmm\n",
      "    - fjam\n",
      "    - fjdn\n",
      "    - fjmd\n",
      "    - fkai\n",
      "    - fkdo\n",
      "    - flmm2\n",
      "    - flrp\n",
      "    - fmjc\n",
      "    - fmjd\n",
      "    - fnsv\n",
      "    - fplp\n",
      "    - fsaf2\n",
      "    - fsrb\n",
      "    - ftal\n",
      "    - ftmj\n",
      "    - fwxs\n",
      "    - mblb\n",
      "    - mblw\n",
      "    - mbmg\n",
      "    - mcel\n",
      "    - mcen\n",
      "    - mcfl\n",
      "    - mcrt\n",
      "    - mcsc\n",
      "    - mdcs\n",
      "    - mdcs2\n",
      "    - mdmc\n",
      "    - mdxn\n",
      "    - mdxs\n",
      "    - meab\n",
      "    - meht\n",
      "    - mema\n",
      "    - mewl\n",
      "    - mfaa\n",
      "    - mgah\n",
      "    - mjbh\n",
      "    - mjda\n",
      "    - mjdr\n",
      "    - mjes\n",
      "    - mjgk\n",
      "    - mjhp\n",
      "    - mjjs2\n",
      "    - mkdb\n",
      "    - mkem\n",
      "    - mmaf\n",
      "    - mmal\n",
      "    - mmap\n",
      "    - mmdg\n",
      "    - mmkw\n",
      "    - mmsh\n",
      "    - mmtm\n",
      "    - mnfe\n",
      "    - mnjl\n",
      "    - mrab\n",
      "    - mrcb\n",
      "    - mrjc2\n",
      "    - mrmg\n",
      "    - mscg2\n",
      "    - msct\n",
      "    - msjm\n",
      "    - msjr\n",
      "    - mskh\n",
      "    - msmn\n",
      "    - msrb\n",
      "    - mtcv\n",
      "    - mtje\n",
      "    - mtos\n",
      "    - mtxj\n",
      "    - mwhw\n",
      "    batch_size: 8\n",
      "    shuffle: true\n",
      "    is_tarred: false\n",
      "    tarred_audio_filepaths: null\n",
      "    tarred_shard_strategy: scatter\n",
      "    augmentor: null\n",
      "    \n",
      "[NeMo W 2024-03-09 11:45:26 modelPT:172] If you intend to do validation, please call the ModelPT.setup_validation_data() or ModelPT.setup_multiple_validation_data() method and provide a valid configuration file to setup the validation data loader(s). \n",
      "    Validation config : \n",
      "    manifest_filepath: /home/eyalshw/git/hakol/notebooks/data/an4/wav/an4_clstk/dev.json\n",
      "    sample_rate: 16000\n",
      "    labels: null\n",
      "    batch_size: 16\n",
      "    shuffle: false\n",
      "    \n"
     ]
    },
    {
     "name": "stdout",
     "output_type": "stream",
     "text": [
      "[NeMo I 2024-03-09 11:45:26 features:289] PADDING: 16\n",
      "[NeMo I 2024-03-09 11:45:27 save_restore_connector:263] Model EncDecSpeakerLabelModel was successfully restored from /home/eyalshw/git/hakol/notebooks/nemo_experiments/TitaNet-S/titanet-small-finetune.nemo.\n"
     ]
    }
   ],
   "source": [
    "verification_model = nemo_asr.models.EncDecSpeakerLabelModel.restore_from(os.path.join(log_dir_finetune, '..', saved_model))"
   ]
  },
  {
   "cell_type": "markdown",
   "metadata": {
    "colab_type": "text",
    "id": "Y-XiLHMQ8BIk"
   },
   "source": [
    "Now, we need to pass the necessary manifest_filepath and params to set up the data loader for extracting embeddings"
   ]
  },
  {
   "cell_type": "code",
   "execution_count": 35,
   "metadata": {
    "colab": {},
    "colab_type": "code",
    "id": "lk2vsDJk9PS8",
    "ExecuteTime": {
     "end_time": "2024-03-09T09:45:27.303454Z",
     "start_time": "2024-03-09T09:45:27.052085Z"
    }
   },
   "outputs": [],
   "source": [
    "!head -5 {validation_manifest} > embeddings_manifest.json"
   ]
  },
  {
   "cell_type": "code",
   "execution_count": 36,
   "metadata": {
    "colab": {},
    "colab_type": "code",
    "id": "DEd5poCr9yrP",
    "ExecuteTime": {
     "end_time": "2024-03-09T09:45:27.312585Z",
     "start_time": "2024-03-09T09:45:27.304606Z"
    }
   },
   "outputs": [
    {
     "data": {
      "text/plain": "{'manifest_filepath': '/home/eyalshw/git/hakol/notebooks/data/an4/wav/an4_clstk/train.json', 'sample_rate': 16000, 'labels': None, 'batch_size': 8, 'shuffle': True, 'is_tarred': False, 'tarred_audio_filepaths': None, 'tarred_shard_strategy': 'scatter', 'augmentor': None}"
     },
     "execution_count": 36,
     "metadata": {},
     "output_type": "execute_result"
    }
   ],
   "source": [
    "config.model.train_ds"
   ]
  },
  {
   "cell_type": "code",
   "execution_count": 37,
   "metadata": {
    "ExecuteTime": {
     "end_time": "2024-03-09T09:45:27.316831Z",
     "start_time": "2024-03-09T09:45:27.313662Z"
    }
   },
   "outputs": [],
   "source": [
    "from nemo.collections.asr.parts.utils.speaker_utils import embedding_normalize\n",
    "from tqdm import  tqdm\n",
    "try:\n",
    "    from torch.cuda.amp import autocast\n",
    "except ImportError:\n",
    "    from contextlib import contextmanager\n",
    "\n",
    "    @contextmanager\n",
    "    def autocast(enabled=None):\n",
    "        yield\n",
    "import numpy as np\n",
    "import json\n",
    "import pickle as pkl"
   ]
  },
  {
   "cell_type": "code",
   "execution_count": 38,
   "metadata": {
    "colab": {},
    "colab_type": "code",
    "id": "JIHok6LD8g0F",
    "ExecuteTime": {
     "end_time": "2024-03-09T09:45:27.324522Z",
     "start_time": "2024-03-09T09:45:27.317964Z"
    }
   },
   "outputs": [],
   "source": [
    "def get_embeddings(speaker_model, manifest_file, batch_size=1, embedding_dir='./', device='cuda'):\n",
    "    test_config = OmegaConf.create(\n",
    "        dict(\n",
    "            manifest_filepath=manifest_file,\n",
    "            sample_rate=16000,\n",
    "            labels=None,\n",
    "            batch_size=batch_size,\n",
    "            shuffle=False,\n",
    "            time_length=20,\n",
    "        )\n",
    "    )\n",
    "\n",
    "    speaker_model.setup_test_data(test_config)\n",
    "    speaker_model = speaker_model.to(device)\n",
    "    speaker_model.eval()\n",
    "\n",
    "    all_embs=[]\n",
    "    out_embeddings = {}\n",
    "           \n",
    "    for test_batch in tqdm(speaker_model.test_dataloader()):\n",
    "        test_batch = [x.to(device) for x in test_batch]\n",
    "        audio_signal, audio_signal_len, labels, slices = test_batch\n",
    "        with autocast():\n",
    "            _, embs = speaker_model.forward(input_signal=audio_signal, input_signal_length=audio_signal_len)\n",
    "            emb_shape = embs.shape[-1]\n",
    "            embs = embs.view(-1, emb_shape)\n",
    "            all_embs.extend(embs.cpu().detach().numpy())\n",
    "        del test_batch\n",
    "\n",
    "    all_embs = np.asarray(all_embs)\n",
    "    all_embs = embedding_normalize(all_embs)\n",
    "    with open(manifest_file, 'r') as manifest:\n",
    "        for i, line in enumerate(manifest.readlines()):\n",
    "            line = line.strip()\n",
    "            dic = json.loads(line)\n",
    "            uniq_name = '@'.join(dic['audio_filepath'].split('/')[-3:])\n",
    "            out_embeddings[uniq_name] = all_embs[i]\n",
    "\n",
    "    embedding_dir = os.path.join(embedding_dir, 'embeddings')\n",
    "    if not os.path.exists(embedding_dir):\n",
    "        os.makedirs(embedding_dir, exist_ok=True)\n",
    "\n",
    "    prefix = manifest_file.split('/')[-1].rsplit('.', 1)[-2]\n",
    "\n",
    "    name = os.path.join(embedding_dir, prefix)\n",
    "    embeddings_file = name + '_embeddings.pkl'\n",
    "    pkl.dump(out_embeddings, open(embeddings_file, 'wb'))\n",
    "    print(\"Saved embedding files to {}\".format(embedding_dir))"
   ]
  },
  {
   "cell_type": "code",
   "execution_count": 39,
   "metadata": {
    "colab": {},
    "colab_type": "code",
    "id": "u2FRecqD-ln5",
    "ExecuteTime": {
     "end_time": "2024-03-09T09:45:27.477539Z",
     "start_time": "2024-03-09T09:45:27.325391Z"
    }
   },
   "outputs": [
    {
     "name": "stdout",
     "output_type": "stream",
     "text": [
      "[NeMo I 2024-03-09 11:45:27 collections:445] Filtered duration for loading collection is  0.00 hours.\n",
      "[NeMo I 2024-03-09 11:45:27 collections:446] Dataset loaded with 5 items, total duration of  0.00 hours.\n",
      "[NeMo I 2024-03-09 11:45:27 collections:448] # 5 files loaded accounting to # 5 labels\n"
     ]
    },
    {
     "name": "stderr",
     "output_type": "stream",
     "text": [
      "100%|██████████| 1/1 [00:00<00:00,  7.11it/s]"
     ]
    },
    {
     "name": "stdout",
     "output_type": "stream",
     "text": [
      "Saved embedding files to ./embeddings\n"
     ]
    },
    {
     "name": "stderr",
     "output_type": "stream",
     "text": [
      "\n"
     ]
    }
   ],
   "source": [
    "manifest_filepath = os.path.join(NEMO_ROOT,'embeddings_manifest.json')\n",
    "device = 'cuda' if torch.cuda.is_available() else 'cpu'\n",
    "get_embeddings(verification_model, manifest_filepath, batch_size=64,embedding_dir='./', device=device)"
   ]
  },
  {
   "cell_type": "markdown",
   "metadata": {
    "colab_type": "text",
    "id": "zfjXPsjzDOgr"
   },
   "source": [
    "Embeddings are stored in dict structure with key-value pair, key being uniq_name generated based on audio_filepath of the sample present in manifest_file in `embedding_dir`"
   ]
  },
  {
   "cell_type": "code",
   "execution_count": 40,
   "metadata": {
    "colab": {},
    "colab_type": "code",
    "id": "hmTeSR6jD28k",
    "ExecuteTime": {
     "end_time": "2024-03-09T09:45:27.728849Z",
     "start_time": "2024-03-09T09:45:27.478425Z"
    }
   },
   "outputs": [
    {
     "name": "stdout",
     "output_type": "stream",
     "text": [
      "embeddings_manifest_embeddings.pkl\r\n"
     ]
    }
   ],
   "source": [
    "!ls ./embeddings/"
   ]
  },
  {
   "cell_type": "code",
   "execution_count": 40,
   "metadata": {
    "ExecuteTime": {
     "end_time": "2024-03-09T09:45:27.732798Z",
     "start_time": "2024-03-09T09:45:27.730185Z"
    }
   },
   "outputs": [],
   "source": []
  }
 ],
 "metadata": {
  "accelerator": "GPU",
  "colab": {
   "collapsed_sections": [],
   "name": "Speaker_Recogniton_Verification.ipynb",
   "provenance": [],
   "toc_visible": true
  },
  "kernelspec": {
   "display_name": "Python 3 (ipykernel)",
   "language": "python",
   "name": "python3"
  },
  "language_info": {
   "codemirror_mode": {
    "name": "ipython",
    "version": 3
   },
   "file_extension": ".py",
   "mimetype": "text/x-python",
   "name": "python",
   "nbconvert_exporter": "python",
   "pygments_lexer": "ipython3",
   "version": "3.9.7"
  }
 },
 "nbformat": 4,
 "nbformat_minor": 1
}
